{
 "cells": [
  {
   "cell_type": "code",
   "execution_count": 37,
   "metadata": {},
   "outputs": [],
   "source": [
    "# User Input\n",
    "#    ↓\n",
    "# Enricher LLM → parses natural language query into smart intent & goal metadata\n",
    "#    ↓\n",
    "# Orchestrator LLM → decides what tools to call (MarketDataTool, NewsTool, etc.)\n",
    "#    ↓\n",
    "# Parallel Tool Execution (runs only the selected ones)\n",
    "#    ↓\n",
    "# Synthesizer LLM → builds final human-readable report\n",
    "#    ↓\n",
    "# ✅ Done\n"
   ]
  },
  {
   "cell_type": "code",
   "execution_count": 38,
   "metadata": {},
   "outputs": [],
   "source": [
    "import os\n",
    "from dotenv import load_dotenv\n",
    "import warnings\n",
    "warnings.filterwarnings(\"ignore\")\n",
    "\n",
    "load_dotenv()\n",
    "\n",
    "os.environ[\"GROQ_API_KEY\"] = os.getenv(\"GROQ_API_KEY\")\n"
   ]
  },
  {
   "cell_type": "code",
   "execution_count": 39,
   "metadata": {},
   "outputs": [],
   "source": [
    "from langchain_groq import ChatGroq\n",
    "\n",
    "llm = ChatGroq(model=\"Gemma2-9b-It\")"
   ]
  },
  {
   "cell_type": "code",
   "execution_count": 152,
   "metadata": {},
   "outputs": [],
   "source": [
    "from typing_extensions import TypedDict\n",
    "from pydantic import BaseModel , Field\n",
    "\n",
    "class Refined(BaseModel):\n",
    "    entities : list[str] = Field(description = \"entities mentioned if any\" )\n",
    "    intent  : str = Field(description = \"intent of the query\")\n",
    "    goal    : str = Field(description = \"goal of the query\")\n",
    "    detail_level : str = Field(default=\"Basic\" , description = \"detail level what user demands.\")\n",
    "    general_search_query: str = Field(default=None, description=\"If the query is general, provide a well-phrased search query string to use directly for a general search.\")\n",
    "\n",
    "class ToolToCall(BaseModel):\n",
    "    name : str = Field( description = \"Name of the tool to call\" )\n",
    "    reason : str = Field( description = \"contains reason why should this tool be called\" )\n",
    "    input : str\n",
    "\n",
    "class ToolSchema(BaseModel):\n",
    "    name: str\n",
    "    description: str\n",
    "    input_schema: str\n",
    "\n",
    "class MessageState(TypedDict):\n",
    "\n",
    "    user_query : str\n",
    "    refined_query : Refined\n",
    "    tools_to_call : list[ToolToCall]"
   ]
  },
  {
   "cell_type": "code",
   "execution_count": 153,
   "metadata": {},
   "outputs": [],
   "source": [
    "from langchain_core.messages import HumanMessage , SystemMessage\n",
    "\n",
    "def refining_query(state : MessageState):\n",
    "    prompt = [\n",
    "        SystemMessage( content = \"You are a smart assistant that extracts user intent from stock market related queries.\" ),\n",
    "        HumanMessage( content = f\"\"\"\n",
    "        User asked : { state[\"user_query\"] }\n",
    "        \n",
    "        Return structured content in form of :\n",
    "\n",
    "          entities : entities if mentioned \n",
    "          intent  : intent of the query\n",
    "          goal : goal of the query\n",
    "          detail_level : detail level what user demands.\n",
    "          general_search_query: If the user's query is general (like asking about overall market situation), create a polished, complete English search query that could be used directly in a web search.\n",
    "\n",
    "        \"\"\" )\n",
    "    ]\n",
    "    structured_llm = llm.with_structured_output(Refined)\n",
    "    response = structured_llm.invoke(prompt)\n",
    "    return {\"refined_query\" : response}\n",
    "    "
   ]
  },
  {
   "cell_type": "code",
   "execution_count": 154,
   "metadata": {},
   "outputs": [
    {
     "name": "stdout",
     "output_type": "stream",
     "text": [
      "{'refined_query': Refined(entities=['Apple', 'Xiomi'], intent='query', goal='stock information', detail_level='Basic', general_search_query=None)}\n"
     ]
    }
   ],
   "source": [
    "input_query = {\"user_query\" : \"Tell me about the Apple and Xiomi stock market today , also how is market now days \"}\n",
    "refined_query = refining_query(input_query)\n",
    "print(refined_query)"
   ]
  },
  {
   "cell_type": "markdown",
   "metadata": {},
   "source": [
    "# TOOLS "
   ]
  },
  {
   "cell_type": "markdown",
   "metadata": {},
   "source": [
    "SocialMedia Tool"
   ]
  },
  {
   "cell_type": "code",
   "execution_count": 155,
   "metadata": {},
   "outputs": [],
   "source": [
    "from langchain_community.tools.tavily_search import TavilySearchResults\n",
    "\n",
    "def SocialMediaTool(entity):\n",
    "\n",
    "    \"\"\"\n",
    "    Collect social media posts about a company or entity from platforms like Reddit, Twitter, and StockTwits.\n",
    "\n",
    "    Args   : \n",
    "        entity : str\n",
    "    Return :\n",
    "        social media content : str\n",
    "    \"\"\"\n",
    "\n",
    "    search_tool = TavilySearchResults(max_results=15)\n",
    "\n",
    "\n",
    "    results = search_tool.invoke(f\"\"\"\n",
    "                site:reddit.com OR site:twitter.com OR site:stocktwits.com {entity}\" \n",
    "    \"\"\")\n",
    "\n",
    "    content = []\n",
    "\n",
    "    for r in results:\n",
    "        if r.get('content') and len(r.get('content').strip()) > 100:\n",
    "            content.append(\n",
    "                {\n",
    "                    \"name\" : r.get('title') ,\n",
    "                    \"reason\" : r.get('content')\n",
    "                }\n",
    "            )\n",
    "        \n",
    "    return content\n"
   ]
  },
  {
   "cell_type": "code",
   "execution_count": 156,
   "metadata": {},
   "outputs": [
    {
     "name": "stdout",
     "output_type": "stream",
     "text": [
      "[{'name': 'Apple iOS - Reddit', 'reason': \"Apple is using some type of inline autocorrect that can't be disabled even if autocorrect is disabled in settings. The result is that words are changed after\"}, {'name': 'r/Apple - Reddit', 'reason': 'All posts must be directly related to Apple. We will remove posts that are only vaguely related to Apple.\\n\\n\\n8\\nNo tech-support questions.\\n\\n\\nAs per our Content Philosophy, this subreddit allows content that benefits the community over individual questions. As such, tech support threads and \"What Should I Buy?\" threads will be removed. Users will be sent to the \"Daily Advice Thread\" that\\'s posted every day by Automoderator at 6AM EST. [...] About Reddit Advertise Help Blog Careers*   Press\\n\\n\\n\\n\\nCommunities Best of Reddit Topics [...] Top 1% Rank by size\\nCreated Jan 25, 2008\\nPublic\\nAnyone can view, post, and comment to this community\\n\\nCommunity Bookmarks\\n\\nApple\\'s Website\\nPromoted\\n\\n\\nContent Philosophy'}, {'name': 'Is anyone using Apple Intelligence? - Reddit', 'reason': \"To be honest, there's not much to Apple Intelligence yet. The message summaries are often stilted, but are generally accurate. (When my son\"}, {'name': 'Apple - X', 'reason': \"Cupertino, CA Joined September 2011. 0 Following · 9.8M Followers · Posts · Affiliates · Replies · Media. @Apple hasn't posted.\"}, {'name': 'Apple Hub (@theapplehub) / X', 'reason': 'The latest Apple news. Not affiliated with Apple Inc. Content Creator Los Angeles, CA theapplehub.com Joined December 2014. 154 Following · 1.1M Followers.'}, {'name': 'I Hate Apple (@iHateApplee) / X', 'reason': \"We hate iPads, iPhones, iMacs, and everything else Apple makes. So we find apple's slave-produced, over priced, sub standard crap highly offensive.\"}, {'name': 'Why is Apple so exclusive? : r/AskProgramming - Reddit', 'reason': 'Apple supports less hardware in their products so it is guaranteed to work together. To do this they severely limit what hardware you can use.'}, {'name': 'Basic Apple Guy (@BasicAppleGuy) / X', 'reason': \"BREAKING: Apple's top Siri exec called AI delays embarrassing & ugly in meeting, while saying a decision to promote features before they were ready worsened\"}, {'name': 'Apple users, do you think apple is lacking innovation in iphones?', 'reason': 'There are only a few advantages that the iPhone has over Android phones, but I feel like Apple is lacking in innovation.'}, {'name': \"Apple drops 'available now' from Apple Intelligence page | The ...\", 'reason': \"Apple drops 'available now' from Apple Intelligence page | The National Advertising Division recommended that Apple 'modify or discontinue' the\"}, {'name': 'Apple lied to us about Apple Intelligence and “New, upgraded Siri”', 'reason': 'Apple told us that with the iPhone 16, we would have Apple intelligence and an upgraded Siri experience. Apple Intelligence has not'}, {'name': 'Apple intelligence is not making much difference in my opinion!', 'reason': 'Apple has a website dedicated to Siri, but it barely scratches the surface on everything it actually can do on all the devices. Learning how to'}, {'name': '[Apple online store] buying iphone directly from Apple is the worst ...', 'reason': \"A painful (and on-going) issue with buying an iphone through Apple's online store. Would like to know if anyone else has a similar experience.\"}]\n"
     ]
    }
   ],
   "source": [
    "\n",
    "socialcontent = SocialMediaTool(\"Apple\")\n",
    "print(socialcontent)"
   ]
  },
  {
   "cell_type": "markdown",
   "metadata": {},
   "source": [
    "GeneralSearch Tool"
   ]
  },
  {
   "cell_type": "code",
   "execution_count": 157,
   "metadata": {},
   "outputs": [],
   "source": [
    "from langchain_community.tools.tavily_search import TavilySearchResults\n",
    "\n",
    "def GeneralSearchTool(query : str) -> str:\n",
    "\n",
    "    \"\"\"\n",
    "    Perform a general web search to gather broader information on any topic.\n",
    "\n",
    "    Args   : \n",
    "        entity : str\n",
    "    Return :\n",
    "        content : str \n",
    "    \"\"\"\n",
    "\n",
    "    search_tool = TavilySearchResults(max_results=15)\n",
    "\n",
    "    results = search_tool.run(query)\n",
    "\n",
    "    content = []\n",
    "\n",
    "    for r in results:\n",
    "        if r.get('content') and len(r.get('content').strip()) > 100:\n",
    "            content.append(\n",
    "                {\n",
    "                    \"name\" : r.get('title') ,\n",
    "                    \"reason\" : r.get('content')\n",
    "                }\n",
    "            )\n",
    "        \n",
    "    return content\n"
   ]
  },
  {
   "cell_type": "code",
   "execution_count": 158,
   "metadata": {},
   "outputs": [
    {
     "name": "stdout",
     "output_type": "stream",
     "text": [
      "[{'name': 'Stock Market Today: Stock Market News And Analysis', 'reason': \"Stock Market News And Analysis\\nThe analysis you'll find in the Stock Market Today is based on over 130 years of market history and a detailed study of every top-performing stock since the 1880s.\\nBy tracking the current recommended market exposure level, the Stock Market Today helps you stay on top of the latest stock market news while keeping any latest fluctuations in perspective to help you decide what action, if any, to take. [...] Stock Market Today: Dow Jones Up But Nvidia Falls On New China Threat; Cathie Wood Loads Up On This Stock Amid 76% Dive (Live Coverage)The Dow Jones Industrial Average reversed higher Monday while other indexes were relatively flat. The Dow moved higher even as Nvidia skidded on a report that China's Huawei is developing a rival... Read More\\nView Prior Stock Market Today Updates\\n\\n\\nCurrent Recommended Market Exposure Level [...] MarketSurge\\nIBD Live\\nLeaderboard\\nSwingTrader\\nMarketDiem\\nStore\\n\\nShopping Cart\\nYour cart is currently empty.\\nVisit the IBD Store to get started.\\n\\n\\n\\n\\n\\nHi\\nMY IBD\\nSIGN OUT\\n\\nMy Products\\nMy Favorites\\nMy Stock Lists\\n\\nEdit Favorites\\n\\nSign In or Subscribe\\n\\n\\n\\nNews\\n\\nStock Market Today: Stock Market News And Analysis\\n\\nLicensing\\n\\nIBD STAFF\\n03:33 PM ET 04/28/2025\\n\\nLATEST MARKET UPDATES\"}, {'name': 'Daily market snapshot - Edward Jones', 'reason': \"below expectations, which weighed on the stock.* At an index level, roughly 95% of companies in the S&P 500 have reported fourth-quarter results, and earnings are on pace to grow by roughly 18%, up from estimates of only 11% coming into the year.* With valuations elevated relative to history, we believe continued strength in corporate profit growth will be a necessary ingredient in sustaining the current bull market. [...] more computing power than older models, which is seen as a positive for demand of NVIDIA's high-performance chips.* Despite the better-than-expected results and positive outlook from NVIDIA, shares closed lower, highlighting the high bar of expectations for the company. Software-giant Salesforce reported yesterday as well, with earnings per share exceeding expectations, while revenue growth was slightly below expectations.* Additionally, sales and net income guidance for the current quarter was [...] growing 17% from a year ago compared with expectations of 12% growth before earnings season started*. It is also encouraging that a greater share of the index is achieving strong results in addition to the mega-cap tech companies. For the fourth quarter, financials, health care and real estate are joining the sectors that house the growth stocks (tech, communication services and consumer discretionary) in delivering double-digit profit growth*. NVIDIA, the second-most valuable company besides\"}, {'name': 'Market Activity - Nasdaq', 'reason': 'Market Activity\\nData is currently not available\\nFeb 7, 2025\\nCOMP NASDAQ Composite Index 19,523.40 -268.59 -1.36% Volume: 7,019,152,847 19,44019,68019,920\\nData is currently not available\\nFeb 7, 2025\\nNDX NASDAQ-100 21,491.31 -282.75 -1.30% 21,30021,60021,900INDU Dow Industrials 44,303.40 -444.23 -0.99%SPX S&P 500 6,025.99 -57.58 -0.95%RUT Russell 2000 2,279.70 -27.41 -1.19%NQX NASDAQ-100 Reduced Value Index 4,298.26 -56.55 -1.30%NYA NYSE Composite 20,039.48 -118.09 -0.59%\\nFeb 8, 2025 [...] U.S. Stocks May Lack Direction Following Mixed Jobs Data(RTTNews) - Following the lackluster performance seen in the previous session, stocks may continue to experience choppy trading early on Friday. The major index futures are currently pointing to a roughly flat open for the markets, with the S&P 500 futures up by less than a tenthNasdaq\\nUndo [...] U.S. Stocks May See Early Sell-Off As Trump Implement Tariffs(RTTNews) - Following the downturn seen over the course of the previous session, stocks are likely to see continued weakness in early trading on Monday. The major index futures are currently pointing to a sharply lower open for the markets, with the S&P 500 futures down by 1.6 peNasdaq\\nUndo'}, {'name': 'U.S. Stocks - WSJ', 'reason': \"Cryptocurrencies: Cryptocurrency quotes are updated in real-time. Sources: CoinDesk (Bitcoin), Kraken (all other cryptocurrencies)\\nCalendars and Economy: 'Actual' numbers are added to the table after economic reports are released. Source: Kantar Media\\nWe are in the process of updating our Market Data experience and we want to hear from you. Please send us your feedback via our Customer Center [...] Mutual Funds & ETFs: All of the mutual fund and ETF information contained in this display, with the exception of the current price and price history, was supplied by Lipper, A Refinitiv Company, subject to the following: Copyright 2019© Refinitiv. All rights reserved. Any copying, republication or redistribution of Lipper content, including by caching, framing or similar means, is expressly prohibited without the prior written consent of Lipper. Lipper shall not be liable for any errors or\"}, {'name': 'Weekly Stock Market Update | Edward Jones', 'reason': 'accommodation. It currently remains in wait-and-see mode and may stay on pause when it meets again on May 7. But by June or July, policymakers will likely have more clarity on the impact of tariffs. Signs that growth and the labor market will be cooling will likely lead the Fed to cut rates two-to-three times this year. [...] Together with trade developments, the current focus is on corporate profits. We think mid-single-digit growth is achievable if the economic growth slowdown doesn’t turn into something worse. From a sector standpoint, we see opportunities in health care and financials. [...] Under our base-case scenario, where the U.S. imposes a 10% universal tariff on all imported goods with higher levies on China and certain sectors, like semiconductors and pharma, we see GDP slowing to a below trend 1.5% - 1.7% growth. Core inflation is likely to peak around 3.5% - 4% before falling as demand slows. With the economy softening but not falling into a recession as the average tariff rate settles around 10%-15% instead of the 20%+ currently, the Fed is unlikely to provide much'}, {'name': \"Schwab's Market Open Update\", 'reason': 'Cryptocurrency_-related products carry a substantial level of risk and are not suitable for all investors. Investments in cryptocurrencies are relatively new, highly speculative, and may be subject to extreme price volatility, illiquidity, and increased risk of loss, including your entire investment in the fund. Spot markets on which cryptocurrencies trade are relatively new and largely unregulated, and therefore, may be more exposed to fraud and security breaches than established, regulated [...] current 4.25% to 4.5% target range. [...] current 4.25% to 4.5% target range.'}, {'name': 'Latest Stock Market News - Yahoo Finance', 'reason': \"### Healthcare stocks: No longer a safe space for investors? Healthcare used to be considered a safe, constant growth sector, weighted heavily in some 401(k)s. But it isn't immune to current market volatility.\\nYahoo Finance • 6 hours ago\\nMEDP\\n\\n\\n\\n### Top Stock Movers Now: Nvidia, Tesla, Boeing, and More U.S. equities were down at midday ahead of key tech earnings scheduled for this week.\\nInvestopedia • 6 hours ago\\nBANVDA [...] ### Biggest risk to markets is a fragmented world, says Norway wealth fund CEO OSLO (Reuters) -The world economy appears to be fragmenting, posing the biggest risk to markets currently as it brings low growth and higher inflation, the CEO of Norway's $1.8 trillion sovereign wealth fund told Reuters. The fund, which invests the Norwegian state's revenues from oil and gas production, is the largest of its type and one of the world's biggest investors, owning on average 1.5% of all listed stocks [...] ### Sanmina (NASDAQ:SANM) Posts Better-Than-Expected Sales In Q1 But Quarterly Revenue Guidance Misses Expectations Electronics manufacturing services company Sanmina (NASDAQ:SANM) reported Q1 CY2025 results beating Wall Street’s revenue expectations, with sales up 8.1% year on year to $1.98 billion. On the other hand, next quarter’s revenue guidance of $1.98 billion was less impressive, coming in 4.4% below analysts’ estimates. Its non-GAAP profit of $1.41 per share was 2.5% above analysts’\"}, {'name': 'Market Data Center - MarketWatch', 'reason': 'Last\\nChg\\nChg %\\nEuro\\n$1.0862\\n-0.0027\\n-0.25%\\nToggle Chart Options\\nAdvanced Charting\\nRange Dropdown\\n$ % Vol\\nJapanese Yen\\n¥147.82\\n-0.43\\n-0.29%\\nBritish Pound\\n$1.2943\\n-0.0020\\n-0.15%\\nAustralian Dollar\\n$0.6289\\n-0.0030\\n-0.47%\\nU.S. Dollar Index (DXY)\\n103.70\\n0.09\\n0.08%\\nWSJ Dollar Index\\n99.28\\n0.12\\n0.12%\\nShow More\\nCryptocurrency\\nBTCUSD CoinDesk Bitcoin Price Index (XBX)\\n$83,448\\n0.63% 524\\nToggle Chart Options\\nAdvanced Charting\\nRange Dropdown\\n$ % Vol\\nETHUSD Ethereum USD\\n$1,872.25\\n-1.01% -19.15\\nXRPUSD XRP USD [...] Intraday Data provided by FACTSET and subject to terms of use. Historical and current end-of-day data provided by FACTSET. All quotes are in local exchange time. Real-time last sale data for U.S. stock quotes reflect trades reported through Nasdaq only. Intraday data delayed at least 15 minutes or per exchange requirements.\\nClose Trending Tickers bar\\nTrending Tickers\\nAbove average volume.\\n\\nTSVT $4.94 -0.20% -0.01\\nGIL $48.35 0.00% 0.00\\nTAC $9.66 0.00% 0.00\\nRELY $19.56 -0.96% -0.19 [...] Range Dropdown\\n$ % Vol\\nDAX\\n22,676.41\\n347.64\\n1.56%\\nCAC 40\\n7,988.96\\n47.05\\n0.59%\\nFTSE MIB\\n38,307.11\\n608.80\\n1.61%\\nIBEX 35\\n12,804.00\\n-73.30\\n-0.57%\\nSXXP\\n541.25\\n4.36\\n0.81%\\nShow More\\nAsia\\nName\\nLast\\nChg\\nChg %\\nXX: ADOW\\n4,185.75\\n-31.06\\n-0.74%\\nToggle Chart Options\\nAdvanced Charting\\nRange Dropdown\\n$ % Vol\\nJP:NIK\\n36,790.03\\n-29.06\\n-0.08%\\nHK: HSI\\n23,484.53\\n-115.78\\n-0.49%\\nCN:SHCOMP\\n3,358.73\\n-13.20\\n-0.39%\\nIN:1\\n74,043.63\\n13.87\\n0.02%\\nSG:STI\\n3,834.97\\n1.90\\n0.05%\\nAU:XJO\\n7,749.1\\n-37.1\\n-0.48%\\nShow More\\nCurrencies\\nName'}, {'name': 'What Is the Stock Market and How Does it Work? - Investopedia', 'reason': 'The price of a stock changes based on the demand for shares from new investors who want to buy, or the supply of shares from existing investors who want to sell. Investors decide to buy or sell based on the company’s performance, economic conditions, the current price of the shares, and other factors. Not every investor makes decisions based on the same criteria, and what might not seem rational to one investor, will seem perfectly acceptable to another. This dynamic keeps shares trading hands [...] companies. There are currently 11 sectors for specific groups like technology, healthcare, or consumer discretionary companies etc. [...] The stock market involves buying and selling shares and derivatives (instruments whose value correlates in some way to particular stocks) of publicly traded companies. Investing in stocks means buying a piece of ownership in a company. Stocks offer the potential for higher returns than bonds since investors can get both dividends when the company is profitable and returns when the stock price goes up. They also have a higher risk, as stock prices can be more volatile.'}, {'name': 'United States Stock Market Index - Quote - Chart - Historical Data', 'reason': '| Caterpillar | 307.28 | 0.91 | 0.30% |\\n| More | \\nAdd to your site\\n|\\n|  | Actual | Chg | %Chg |\\n| --- | --- | --- | --- |\\n| United States | 4.2380 | 0.027 | 0.03% |\\n| United Kingdom | 4.5070 | 0.005 | -0.01% |\\n| Japan | 1.3150 | 0.025 | -0.02% |\\n| Australia | 4.2040 | 0.041 | 0.04% |\\n| Germany | 2.4950 | 0.012 | -0.01% |\\n| Brazil | 14.3150 | 0.199 | -0.20% |\\n| Russia | 15.5500 | 0.160 | 0.16% |\\n| India | 6.3530 | 0.031 | -0.03% |\\n| Canada | 3.1565 | 0.015 | -0.02% | [...] |  | Actual | Chg | %Chg |\\n| --- | --- | --- | --- |\\n| Crude Oil | 61.191 | 0.86 | -1.38% |\\n| Brent | 64.897 | 0.96 | -1.46% |\\n| Natural gas | 3.3237 | 0.02 | -0.58% |\\n| Gasoline | 2.0862 | 0.02 | -0.93% |\\n| Heating Oil | 2.1569 | 0.02 | -0.94% |\\n| Gold | 3321.62 | 15.92 | -0.48% |\\n| Silver | 33.236 | 0.12 | 0.37% |\\n| Copper | 4.8662 | 0.01 | 0.26% |\\n| Soybeans | 1049.81 | 2.19 | -0.21% |\\n| Wheat | 517.31 | 1.81 | 0.35% |\\n| Coal | 95.60 | 0.25 | 0.26% |\\n| Steel | 3072.00 | 29.00 | 0.95% | [...] Interest Rate\\nInflation Rate\\nUnemployment Rate\\nGDP Growth\\nGDP per Capita\\nCurrent Account\\nGold Reserves\\nGovernment Debt\\nCrude Oil Production\\nGasoline Prices\\nCredit Rating\\nMore Indicators\\n\\nForecasts\\n\\nMarkets & Indicators\\nCountries\\nCountries\\nIndicators\\nCommodities\\nIndexes\\nCurrencies\\nCrypto\\nBonds\\n\\nSolutions\\n\\nData Subscriptions\\nAPI Access\\nPricing\\n\\nApps\\n\\nApp Store\\nGoogle Play\\nTwitter\\n\\nAbout\\n\\nCustomers\\nInvestors\\nCareers\\nAbout us\\nContact'}, {'name': 'MarketWatch: Stock Market News - Financial News - MarketWatch', 'reason': 'Intraday Data provided by FACTSET and subject to terms of use. Historical and current end-of-day data provided by FACTSET. All quotes are in local exchange time. Real-time last sale data for U.S. stock quotes reflect trades reported through Nasdaq only. Intraday data delayed at least 15 minutes or per exchange requirements. [...] MarketWatch: Stock Market News - Financial News - MarketWatch\\n \\nSkip to main content\\nSubscribe Now\\n\\nLatest News\\nWatchlist\\n\\nInvesting\\nBack\\nInvesting\\n\\n\\nWorld Markets\\nBack\\nInvesting\\nWorld Markets\\n\\nUnited States\\nCanada\\nEurope & Middle East\\nAsia\\nLatin America\\nEmerging Markets\\n\\n\\n\\nFinancial Markets\\nBack\\nInvesting\\nFinancial Markets\\n\\nBonds\\nCommodities\\nCryptocurrencies\\nCurrencies\\nETFs\\nFutures\\nIPOs\\nMutual Funds\\nOptions\\nStocks\\n\\n\\n\\nIndustries\\nBack\\nInvesting\\nIndustries'}, {'name': 'U.S. Stock Market Headlines | Breaking Stock Market News - Reuters', 'reason': 'Markets Performance\\nOfficial Data Partner\\n### Commodities\\n| Future | Last | % Change |\\n| --- | --- | --- |\\n| Brent Crude Oil | 70.45 | +0.13%Positive |\\n| Gold | 2,910.60 | -0.21%Negative |\\n| Copper | 882.55 | -0.93%Negative |\\n| CBOT Soybeans | 1,010.00 | -0.39%Negative |\\n### Currencies\\n| Exchange | Last | % Change |\\n| --- | --- | --- |\\n| EUR/USD | 1.0832 | +0.44%Positive |\\n| GBP/USD | 1.2920 | +0.29%Positive |\\n| JPY/USD | 0.0068 | -99.00%Negative |\\n| CNY/USD | 0.1382 | +0.17%Positive |'}, {'name': 'CNBC: Stock Markets, Business News, Financials, Earnings', 'reason': 'Published Time: 2018-02-26T02:38:43+0000\\nStock Markets, Business News, Financials, Earnings - CNBC\\nSkip Navigation\\n\\n\\nMarkets\\n\\nPre-Markets\\nU.S. Markets\\nEurope Markets\\nChina Markets\\nAsia Markets\\nWorld Markets\\nCurrencies\\nCryptocurrency\\nFutures & Commodities\\nBonds\\nFunds & ETFs\\n\\nBusiness\\n\\nEconomy\\nFinance\\nHealth & Science\\nMedia\\nReal Estate\\nEnergy\\nClimate\\nTransportation\\nIndustrials\\nRetail\\nWealth\\nSports\\nLife\\nSmall Business\\n\\nInvesting'}, {'name': 'Dow Jones INDEX TODAY | DJIA LIVE TICKER - Markets Insider', 'reason': '|\\n| American Express | 275.25 | \\n252.29\\n| \\n-8.78%\\n| \\n-24.18\\n| \\n10:00:00 AM\\n|\\n| Amgen | 305.70 | \\n311.57\\n| \\n0.69%\\n| \\n2.12\\n| \\n09:59:59 AM\\n|\\n| Apple | 223.89 | \\n206.29\\n| \\n-7.88%\\n| \\n-17.65\\n| \\n10:27:55 AM\\n|\\n| Boeing | 168.56 | \\n155.66\\n| \\n-7.67%\\n| \\n-12.93\\n| \\n10:27:54 AM\\n|\\n| Caterpillar | 334.66 | \\n312.30\\n| \\n-6.68%\\n| \\n-22.36\\n| \\n10:27:54 AM\\n|\\n| Chevron | 166.47 | \\n158.46\\n| \\n-4.81%\\n| \\n-8.01\\n| \\n10:27:56 AM\\n|\\n| Cisco | 61.82 | \\n58.57\\n| \\n-5.27%\\n| \\n-3.26\\n| \\n10:27:54 AM\\n|\\n| Coca-Cola | 71.33 | \\n72.92\\n|'}, {'name': 'US Markets, Company Earnings, Stock Market Trends, Market News', 'reason': 'More in Markets [...] Commodity Futures\\n\\nView All\\nAgricultural\\nEnergy\\nMetal\\n\\n\\nChicago Wheat\\n536.50\\nMay 2025\\n−3.50 (0.65%)\\n\\n\\nCorn\\n467.50\\nMay 2025\\n−1.50 (0.32%)\\n\\n\\nCotton No. 2\\n65.86\\nMay 2025\\n+0.31 (0.47%)\\n\\n\\nSoybean\\n991.50\\nMay 2025\\n−1.25 (0.13%)\\n\\n\\nCurrencies\\n\\nView All\\n\\n\\nPound Sterling\\n1.2771\\nGBP-USD\\n−0.0015 (0.11%)\\n\\n\\nEuro\\n1.1044\\nEUR-USD\\n+0.0067 (0.61%)\\n\\n\\nJapanese Yen\\n145.04\\nUSD-JPY\\n−0.81 (0.55%)\\n\\n\\nSwiss Franc\\n0.8413\\nUSD-CHF\\n−0.0046 (0.54%)\\n\\n\\nChinese Yuan\\n0.1362\\nCNY-USD\\n0.0000 (< 0.01%)\\n\\n\\nUS Treasury Yield Curve [...] make sure their analysis is clear and in no way misleading or deceptive.'}]\n"
     ]
    }
   ],
   "source": [
    "GeneralSearchContent = GeneralSearchTool(\"Hi tell me about curret stock market\")\n",
    "print(GeneralSearchContent)"
   ]
  },
  {
   "cell_type": "markdown",
   "metadata": {},
   "source": [
    "MarketDataTool"
   ]
  },
  {
   "cell_type": "code",
   "execution_count": 159,
   "metadata": {},
   "outputs": [],
   "source": [
    "import yfinance as yf\n",
    "from datetime import datetime, timedelta\n",
    "\n",
    "\n",
    "def MarketData(entity):\n",
    "\n",
    "    \"\"\"\n",
    "    Fetch stock prices and financial data for the past 30 days for a specific company or entity.\n",
    "\n",
    "    Args   : \n",
    "        entity : str\n",
    "    Return :\n",
    "        Market data content : str\n",
    "    \"\"\"\n",
    "    \n",
    "    ticker_response = llm.invoke(f\"\"\"\n",
    "        What are the stock ticker symbol for the following company: {entity}?\n",
    "        If any company doesn't exist, output None for it.\n",
    "        Return the ticker only with no extra text.\n",
    "    \"\"\")\n",
    "\n",
    "    ticker = ticker_response.content.strip()\n",
    "    print(ticker)\n",
    "\n",
    "\n",
    "    stock = yf.Ticker(ticker)\n",
    "    data = stock.history(period=\"30d\")\n",
    "    summary = f\"Stock data for {ticker} i.e {entity} over the last 30 days:\\n\"\n",
    "\n",
    "    for date,row in data.iterrows():\n",
    "        date_str = date.strftime(\"%b %d, %Y\")\n",
    "        open_price = row[\"Open\"]\n",
    "        close_price = row[\"Close\"]\n",
    "        volume = row[\"Volume\"]    \n",
    "        summary += f\"Date: {date_str}, Open: ${open_price:.2f}, Close: ${close_price:.2f}, Volume: {volume}\\n\"\n",
    "\n",
    "    return summary"
   ]
  },
  {
   "cell_type": "code",
   "execution_count": 160,
   "metadata": {},
   "outputs": [
    {
     "name": "stdout",
     "output_type": "stream",
     "text": [
      "AAPL\n"
     ]
    },
    {
     "data": {
      "text/plain": [
       "'Stock data for AAPL i.e Apple over the last 30 days:\\nDate: Mar 17, 2025, Open: $213.31, Close: $214.00, Volume: 48073400.0\\nDate: Mar 18, 2025, Open: $214.16, Close: $212.69, Volume: 42432400.0\\nDate: Mar 19, 2025, Open: $214.22, Close: $215.24, Volume: 54385400.0\\nDate: Mar 20, 2025, Open: $213.99, Close: $214.10, Volume: 48862900.0\\nDate: Mar 21, 2025, Open: $211.56, Close: $218.27, Volume: 94127800.0\\nDate: Mar 24, 2025, Open: $221.00, Close: $220.73, Volume: 44299500.0\\nDate: Mar 25, 2025, Open: $220.77, Close: $223.75, Volume: 34493600.0\\nDate: Mar 26, 2025, Open: $223.51, Close: $221.53, Volume: 34466100.0\\nDate: Mar 27, 2025, Open: $221.39, Close: $223.85, Volume: 37094800.0\\nDate: Mar 28, 2025, Open: $221.67, Close: $217.90, Volume: 39818600.0\\nDate: Mar 31, 2025, Open: $217.01, Close: $222.13, Volume: 65299300.0\\nDate: Apr 01, 2025, Open: $219.81, Close: $223.19, Volume: 36412700.0\\nDate: Apr 02, 2025, Open: $221.32, Close: $223.89, Volume: 35905900.0\\nDate: Apr 03, 2025, Open: $205.54, Close: $203.19, Volume: 103419000.0\\nDate: Apr 04, 2025, Open: $193.89, Close: $188.38, Volume: 125910900.0\\nDate: Apr 07, 2025, Open: $177.20, Close: $181.46, Volume: 160466300.0\\nDate: Apr 08, 2025, Open: $186.70, Close: $172.42, Volume: 120859500.0\\nDate: Apr 09, 2025, Open: $171.95, Close: $198.85, Volume: 184395900.0\\nDate: Apr 10, 2025, Open: $189.07, Close: $190.42, Volume: 121880000.0\\nDate: Apr 11, 2025, Open: $186.10, Close: $198.15, Volume: 87435900.0\\nDate: Apr 14, 2025, Open: $211.44, Close: $202.52, Volume: 101352900.0\\nDate: Apr 15, 2025, Open: $201.86, Close: $202.14, Volume: 51343900.0\\nDate: Apr 16, 2025, Open: $198.36, Close: $194.27, Volume: 59732400.0\\nDate: Apr 17, 2025, Open: $197.20, Close: $196.98, Volume: 51334300.0\\nDate: Apr 21, 2025, Open: $193.27, Close: $193.16, Volume: 46742500.0\\nDate: Apr 22, 2025, Open: $196.12, Close: $199.74, Volume: 52976400.0\\nDate: Apr 23, 2025, Open: $206.00, Close: $204.60, Volume: 52929200.0\\nDate: Apr 24, 2025, Open: $204.89, Close: $208.37, Volume: 47311000.0\\nDate: Apr 25, 2025, Open: $206.37, Close: $209.28, Volume: 38222300.0\\nDate: Apr 28, 2025, Open: $210.00, Close: $210.14, Volume: 38652400.0\\n'"
      ]
     },
     "execution_count": 160,
     "metadata": {},
     "output_type": "execute_result"
    }
   ],
   "source": [
    "MarketData(\"Apple\")"
   ]
  },
  {
   "cell_type": "markdown",
   "metadata": {},
   "source": [
    "NewsTool"
   ]
  },
  {
   "cell_type": "code",
   "execution_count": 161,
   "metadata": {},
   "outputs": [],
   "source": [
    "import requests\n",
    "\n",
    "os.environ[\"GNEWS_API_KEY\"] = os.getenv(\"GNEWS_API_KEY\")\n",
    "\n",
    "def NewsTool(entity):\n",
    "    \n",
    "    \"\"\"\n",
    "    Retrieve the latest news headlines related to a company or entity.\n",
    "\n",
    "    Args   : \n",
    "        entity : str\n",
    "     :\n",
    "        news related content : str\n",
    "    \"\"\"\n",
    "        \n",
    "    url = f'https://gnews.io/api/v4/search?q={entity}&lang=en&token={os.environ[\"GNEWS_API_KEY\"]}'\n",
    "    response = requests.get(url)\n",
    "    data = response.json()\n",
    "    if data.get(\"articles\"):\n",
    "        headlines = [article[\"title\"] for article in data[\"articles\"]]\n",
    "        content = f\"News for {entity}:\\n\" + \"\\n\".join(headlines) + \"\\n\"\n",
    "    else:\n",
    "        content = f\"No news found for {entity}.\\n\"\n",
    "    return content\n"
   ]
  },
  {
   "cell_type": "code",
   "execution_count": 162,
   "metadata": {},
   "outputs": [
    {
     "data": {
      "text/plain": [
       "\"News for Apple:\\nAirPods Pro 3’s best upgrade could be the gift that keeps giving\\nApple Watch SE 3: 3 reasons to consider upgrading, and 3 reasons you might want to skip\\nMassive Apple sale is live at Amazon, including record-low price on MacBooks, iPads, and AirPods\\nApple Seeds Fourth Beta of iOS 18.5 to Developers [Update: Public Beta Available]\\nNew Meta XR glasses again tipped to land later this year - well ahead of Apple's rumored AR glasses with Apple Intelligence\\nApple’s most affordable iPad is now the cheapest it’s ever been\\n3 new Apple TV+ movies and shows you should stream in May 2025\\nHow to get the most out of Siri on your Apple Watch\\nCriminals are pretending to be Microsoft, Google, and Apple in phishing attacks\\nApple Watch Series 11 isn’t tempting me to upgrade based on these 5 rumors\\n\""
      ]
     },
     "execution_count": 162,
     "metadata": {},
     "output_type": "execute_result"
    }
   ],
   "source": [
    "NewsTool(\"Apple\")"
   ]
  },
  {
   "cell_type": "markdown",
   "metadata": {},
   "source": [
    "RelativeComparingTool"
   ]
  },
  {
   "cell_type": "code",
   "execution_count": 163,
   "metadata": {},
   "outputs": [],
   "source": [
    "def RelativeComparisionTool(entity : str) -> str:\n",
    "\n",
    "    \"\"\" \n",
    "    \n",
    "    Provide a detailed analysis of a company's market position, including comparisons with competitors.\n",
    "\n",
    "    Args :\n",
    "        entity : str\n",
    "    Return : \n",
    "        content : str\n",
    "\n",
    "    \"\"\"\n",
    "\n",
    "    content = \"\"\n",
    "\n",
    "    return content\n",
    "    "
   ]
  },
  {
   "cell_type": "code",
   "execution_count": 164,
   "metadata": {},
   "outputs": [],
   "source": [
    "tools_available = [\n",
    "    ToolSchema(\n",
    "        name=\"MarketDataTool\",\n",
    "        description=\"Fetch stock prices and financial data for the past 30 days for a specific company or entity.\",\n",
    "        input_schema=\"string i.e the entity name\"\n",
    "    ),\n",
    "    ToolSchema(\n",
    "        name=\"NewsTool\",\n",
    "        description=\"Retrieve the latest news headlines related to a company or entity.\",\n",
    "        input_schema=\"string i.e the entity name\"\n",
    "    ),\n",
    "    ToolSchema(\n",
    "        name=\"GeneralSearchTool\",\n",
    "        description=\"Execute a web search using the provided general search query — a well-formed, natural language question intended to retrieve general market or contextual information.\",\n",
    "        input_schema=\"A general search query string (e.g., 'how is the stock market performing today')\"\n",
    "    ),\n",
    "    ToolSchema(\n",
    "        name=\"SocialMediaTool\",\n",
    "        description= \"Collect social media posts about a company or entity from platforms like Reddit, Twitter, and StockTwits.\",\n",
    "        input_schema=\"string i.e the entity name\"\n",
    "    )\n",
    "]\n",
    "\n",
    "# {\n",
    "#     \"name\": \"RelativeComparisionTool\",\n",
    "#     \"description\": \"Provide a detailed analysis of a company's market position, including comparisons with competitors.\"\n",
    "# },"
   ]
  },
  {
   "cell_type": "code",
   "execution_count": 165,
   "metadata": {},
   "outputs": [
    {
     "data": {
      "text/plain": [
       "\"MarketDataTool: Fetch stock prices and financial data for the past 30 days for a specific company or entity.\\nInputs: string i.e the entity name\\n\\nNewsTool: Retrieve the latest news headlines related to a company or entity.\\nInputs: string i.e the entity name\\n\\nGeneralSearchTool: Execute a web search using the provided general search query — a well-formed, natural language question intended to retrieve general market or contextual information.\\nInputs: A general search query string (e.g., 'how is the stock market performing today')\\n\\nSocialMediaTool: Collect social media posts about a company or entity from platforms like Reddit, Twitter, and StockTwits.\\nInputs: string i.e the entity name\""
      ]
     },
     "execution_count": 165,
     "metadata": {},
     "output_type": "execute_result"
    }
   ],
   "source": [
    "tool_list_text = \"\\n\\n\".join([\n",
    "    f\"{tool.name}: {tool.description}\\nInputs: {tool.input_schema}\"\n",
    "    for tool in tools_available \n",
    "])\n",
    "tool_list_text"
   ]
  },
  {
   "cell_type": "code",
   "execution_count": 166,
   "metadata": {},
   "outputs": [
    {
     "name": "stdout",
     "output_type": "stream",
     "text": [
      "entities=['Apple', 'Xiomi'] intent='query' goal='stock information' detail_level='Basic' general_search_query=None\n",
      "None\n"
     ]
    }
   ],
   "source": [
    "print(refined_query[\"refined_query\"])\n",
    "print(refined_query[\"refined_query\"].general_search_query)"
   ]
  },
  {
   "cell_type": "code",
   "execution_count": 171,
   "metadata": {},
   "outputs": [],
   "source": [
    "# User asked: {state[\"user_query\"]}\n",
    "\n",
    "class ToolCall(BaseModel):\n",
    "    tool_call : list[ToolToCall]  \n",
    "\n",
    "def orchetrator(state : MessageState):\n",
    "\n",
    "    prompt = f\"\"\"\n",
    "\n",
    "        You are a smart assistant specialize in stock market analysis.\n",
    "        The user's original query has been refined as follows:\n",
    "\n",
    "        Here are the details of the refined query:\n",
    "            - Entities: {', '.join(state['refined_query'].entities)}\n",
    "            - Intent: {state['refined_query'].intent}\n",
    "            - Goal: {state['refined_query'].goal}\n",
    "            - Detail level: {state['refined_query'].detail_level}\n",
    "            - General Search Query: {state['refined_query'].general_search_query}\n",
    "\n",
    "        Here are the details of tool : {tool_list_text}\n",
    "\n",
    "      Based on this information, please decide:\n",
    "      1. What tools should be called?\n",
    "      2. For each tool, provide reasons for the call.\n",
    "      3. If there are multiple entities, handle each one appropriately.\n",
    "      4. Also provide the input fo reach tool call.\n",
    "\n",
    "      Return a structured response with tool to call , reason and input.\n",
    "   \n",
    "    \"\"\"\n",
    "\n",
    "    structured_llm = llm.with_structured_output(ToolCall)\n",
    "    response = structured_llm.invoke(prompt)\n",
    "\n",
    "    print(response)\n"
   ]
  },
  {
   "cell_type": "code",
   "execution_count": 172,
   "metadata": {},
   "outputs": [
    {
     "name": "stdout",
     "output_type": "stream",
     "text": [
      "{'refined_query': Refined(entities=['Apple', 'Xiomi'], intent='query', goal='stock information', detail_level='Basic', general_search_query=None)}\n"
     ]
    },
    {
     "ename": "BadRequestError",
     "evalue": "Error code: 400 - {'error': {'message': \"Failed to call a function. Please adjust your prompt. See 'failed_generation' for more details.\", 'type': 'invalid_request_error', 'code': 'tool_use_failed', 'failed_generation': '<tool-use>\\n{\\n\\t\"tool_call\": {\\n\\t\\t\"id\": \"pending\",\\n\\t\\t\"type\": \"function\",\\n\\t\\t\"function\": {\\n\\t\\t\\t\"name\": \"MarketDataTool\"\\n\\t\\t},\\n\\t\\t\"parameters\": {\\n\\t\\t\\t\"input\": \"Apple\"\\n\\t\\t}\\n\\t}\\n}\\n</tool-use> \\n<tool-use>\\n{\\n\\t\"tool_call\": {\\n\\t\\t\"id\": \"pending\",\\n\\t\\t\"type\": \"function\",\\n\\t\\t\"function\": {\\n\\t\\t\\t\"name\": \"MarketDataTool\"\\n\\t\\t},\\n\\t\\t\"parameters\": {\\n\\t\\t\\t\"input\": \"Xiomi\"\\n\\t\\t}\\n\\t}\\n}\\n</tool-use> \\n'}}",
     "output_type": "error",
     "traceback": [
      "\u001b[0;31m---------------------------------------------------------------------------\u001b[0m",
      "\u001b[0;31mBadRequestError\u001b[0m                           Traceback (most recent call last)",
      "Cell \u001b[0;32mIn[172], line 2\u001b[0m\n\u001b[1;32m      1\u001b[0m \u001b[38;5;28mprint\u001b[39m(refined_query)\n\u001b[0;32m----> 2\u001b[0m \u001b[43morchetrator\u001b[49m\u001b[43m(\u001b[49m\u001b[43mrefined_query\u001b[49m\u001b[43m)\u001b[49m\n",
      "Cell \u001b[0;32mIn[171], line 33\u001b[0m, in \u001b[0;36morchetrator\u001b[0;34m(state)\u001b[0m\n\u001b[1;32m      8\u001b[0m prompt \u001b[38;5;241m=\u001b[39m \u001b[38;5;124mf\u001b[39m\u001b[38;5;124m\"\"\"\u001b[39m\n\u001b[1;32m      9\u001b[0m \n\u001b[1;32m     10\u001b[0m \u001b[38;5;124m    You are a smart assistant specialize in stock market analysis.\u001b[39m\n\u001b[0;32m   (...)\u001b[0m\n\u001b[1;32m     29\u001b[0m \u001b[38;5;124m\u001b[39m\n\u001b[1;32m     30\u001b[0m \u001b[38;5;124m\u001b[39m\u001b[38;5;124m\"\"\"\u001b[39m\n\u001b[1;32m     32\u001b[0m structured_llm \u001b[38;5;241m=\u001b[39m llm\u001b[38;5;241m.\u001b[39mwith_structured_output(ToolCall)\n\u001b[0;32m---> 33\u001b[0m response \u001b[38;5;241m=\u001b[39m \u001b[43mstructured_llm\u001b[49m\u001b[38;5;241;43m.\u001b[39;49m\u001b[43minvoke\u001b[49m\u001b[43m(\u001b[49m\u001b[43mprompt\u001b[49m\u001b[43m)\u001b[49m\n\u001b[1;32m     35\u001b[0m \u001b[38;5;28mprint\u001b[39m(response)\n",
      "File \u001b[0;32m~/Desktop/AgentVerse/AgentVerse/lib/python3.9/site-packages/langchain_core/runnables/base.py:3032\u001b[0m, in \u001b[0;36mRunnableSequence.invoke\u001b[0;34m(self, input, config, **kwargs)\u001b[0m\n\u001b[1;32m   3030\u001b[0m \u001b[38;5;28;01mwith\u001b[39;00m set_config_context(config) \u001b[38;5;28;01mas\u001b[39;00m context:\n\u001b[1;32m   3031\u001b[0m     \u001b[38;5;28;01mif\u001b[39;00m i \u001b[38;5;241m==\u001b[39m \u001b[38;5;241m0\u001b[39m:\n\u001b[0;32m-> 3032\u001b[0m         \u001b[38;5;28minput\u001b[39m \u001b[38;5;241m=\u001b[39m \u001b[43mcontext\u001b[49m\u001b[38;5;241;43m.\u001b[39;49m\u001b[43mrun\u001b[49m\u001b[43m(\u001b[49m\u001b[43mstep\u001b[49m\u001b[38;5;241;43m.\u001b[39;49m\u001b[43minvoke\u001b[49m\u001b[43m,\u001b[49m\u001b[43m \u001b[49m\u001b[38;5;28;43minput\u001b[39;49m\u001b[43m,\u001b[49m\u001b[43m \u001b[49m\u001b[43mconfig\u001b[49m\u001b[43m,\u001b[49m\u001b[43m \u001b[49m\u001b[38;5;241;43m*\u001b[39;49m\u001b[38;5;241;43m*\u001b[39;49m\u001b[43mkwargs\u001b[49m\u001b[43m)\u001b[49m\n\u001b[1;32m   3033\u001b[0m     \u001b[38;5;28;01melse\u001b[39;00m:\n\u001b[1;32m   3034\u001b[0m         \u001b[38;5;28minput\u001b[39m \u001b[38;5;241m=\u001b[39m context\u001b[38;5;241m.\u001b[39mrun(step\u001b[38;5;241m.\u001b[39minvoke, \u001b[38;5;28minput\u001b[39m, config)\n",
      "File \u001b[0;32m~/Desktop/AgentVerse/AgentVerse/lib/python3.9/site-packages/langchain_core/runnables/base.py:5416\u001b[0m, in \u001b[0;36mRunnableBindingBase.invoke\u001b[0;34m(self, input, config, **kwargs)\u001b[0m\n\u001b[1;32m   5409\u001b[0m \u001b[38;5;129m@override\u001b[39m\n\u001b[1;32m   5410\u001b[0m \u001b[38;5;28;01mdef\u001b[39;00m\u001b[38;5;250m \u001b[39m\u001b[38;5;21minvoke\u001b[39m(\n\u001b[1;32m   5411\u001b[0m     \u001b[38;5;28mself\u001b[39m,\n\u001b[0;32m   (...)\u001b[0m\n\u001b[1;32m   5414\u001b[0m     \u001b[38;5;241m*\u001b[39m\u001b[38;5;241m*\u001b[39mkwargs: Optional[Any],\n\u001b[1;32m   5415\u001b[0m ) \u001b[38;5;241m-\u001b[39m\u001b[38;5;241m>\u001b[39m Output:\n\u001b[0;32m-> 5416\u001b[0m     \u001b[38;5;28;01mreturn\u001b[39;00m \u001b[38;5;28;43mself\u001b[39;49m\u001b[38;5;241;43m.\u001b[39;49m\u001b[43mbound\u001b[49m\u001b[38;5;241;43m.\u001b[39;49m\u001b[43minvoke\u001b[49m\u001b[43m(\u001b[49m\n\u001b[1;32m   5417\u001b[0m \u001b[43m        \u001b[49m\u001b[38;5;28;43minput\u001b[39;49m\u001b[43m,\u001b[49m\n\u001b[1;32m   5418\u001b[0m \u001b[43m        \u001b[49m\u001b[38;5;28;43mself\u001b[39;49m\u001b[38;5;241;43m.\u001b[39;49m\u001b[43m_merge_configs\u001b[49m\u001b[43m(\u001b[49m\u001b[43mconfig\u001b[49m\u001b[43m)\u001b[49m\u001b[43m,\u001b[49m\n\u001b[1;32m   5419\u001b[0m \u001b[43m        \u001b[49m\u001b[38;5;241;43m*\u001b[39;49m\u001b[38;5;241;43m*\u001b[39;49m\u001b[43m{\u001b[49m\u001b[38;5;241;43m*\u001b[39;49m\u001b[38;5;241;43m*\u001b[39;49m\u001b[38;5;28;43mself\u001b[39;49m\u001b[38;5;241;43m.\u001b[39;49m\u001b[43mkwargs\u001b[49m\u001b[43m,\u001b[49m\u001b[43m \u001b[49m\u001b[38;5;241;43m*\u001b[39;49m\u001b[38;5;241;43m*\u001b[39;49m\u001b[43mkwargs\u001b[49m\u001b[43m}\u001b[49m\u001b[43m,\u001b[49m\n\u001b[1;32m   5420\u001b[0m \u001b[43m    \u001b[49m\u001b[43m)\u001b[49m\n",
      "File \u001b[0;32m~/Desktop/AgentVerse/AgentVerse/lib/python3.9/site-packages/langchain_core/language_models/chat_models.py:368\u001b[0m, in \u001b[0;36mBaseChatModel.invoke\u001b[0;34m(self, input, config, stop, **kwargs)\u001b[0m\n\u001b[1;32m    356\u001b[0m \u001b[38;5;129m@override\u001b[39m\n\u001b[1;32m    357\u001b[0m \u001b[38;5;28;01mdef\u001b[39;00m\u001b[38;5;250m \u001b[39m\u001b[38;5;21minvoke\u001b[39m(\n\u001b[1;32m    358\u001b[0m     \u001b[38;5;28mself\u001b[39m,\n\u001b[0;32m   (...)\u001b[0m\n\u001b[1;32m    363\u001b[0m     \u001b[38;5;241m*\u001b[39m\u001b[38;5;241m*\u001b[39mkwargs: Any,\n\u001b[1;32m    364\u001b[0m ) \u001b[38;5;241m-\u001b[39m\u001b[38;5;241m>\u001b[39m BaseMessage:\n\u001b[1;32m    365\u001b[0m     config \u001b[38;5;241m=\u001b[39m ensure_config(config)\n\u001b[1;32m    366\u001b[0m     \u001b[38;5;28;01mreturn\u001b[39;00m cast(\n\u001b[1;32m    367\u001b[0m         \u001b[38;5;124m\"\u001b[39m\u001b[38;5;124mChatGeneration\u001b[39m\u001b[38;5;124m\"\u001b[39m,\n\u001b[0;32m--> 368\u001b[0m         \u001b[38;5;28;43mself\u001b[39;49m\u001b[38;5;241;43m.\u001b[39;49m\u001b[43mgenerate_prompt\u001b[49m\u001b[43m(\u001b[49m\n\u001b[1;32m    369\u001b[0m \u001b[43m            \u001b[49m\u001b[43m[\u001b[49m\u001b[38;5;28;43mself\u001b[39;49m\u001b[38;5;241;43m.\u001b[39;49m\u001b[43m_convert_input\u001b[49m\u001b[43m(\u001b[49m\u001b[38;5;28;43minput\u001b[39;49m\u001b[43m)\u001b[49m\u001b[43m]\u001b[49m\u001b[43m,\u001b[49m\n\u001b[1;32m    370\u001b[0m \u001b[43m            \u001b[49m\u001b[43mstop\u001b[49m\u001b[38;5;241;43m=\u001b[39;49m\u001b[43mstop\u001b[49m\u001b[43m,\u001b[49m\n\u001b[1;32m    371\u001b[0m \u001b[43m            \u001b[49m\u001b[43mcallbacks\u001b[49m\u001b[38;5;241;43m=\u001b[39;49m\u001b[43mconfig\u001b[49m\u001b[38;5;241;43m.\u001b[39;49m\u001b[43mget\u001b[49m\u001b[43m(\u001b[49m\u001b[38;5;124;43m\"\u001b[39;49m\u001b[38;5;124;43mcallbacks\u001b[39;49m\u001b[38;5;124;43m\"\u001b[39;49m\u001b[43m)\u001b[49m\u001b[43m,\u001b[49m\n\u001b[1;32m    372\u001b[0m \u001b[43m            \u001b[49m\u001b[43mtags\u001b[49m\u001b[38;5;241;43m=\u001b[39;49m\u001b[43mconfig\u001b[49m\u001b[38;5;241;43m.\u001b[39;49m\u001b[43mget\u001b[49m\u001b[43m(\u001b[49m\u001b[38;5;124;43m\"\u001b[39;49m\u001b[38;5;124;43mtags\u001b[39;49m\u001b[38;5;124;43m\"\u001b[39;49m\u001b[43m)\u001b[49m\u001b[43m,\u001b[49m\n\u001b[1;32m    373\u001b[0m \u001b[43m            \u001b[49m\u001b[43mmetadata\u001b[49m\u001b[38;5;241;43m=\u001b[39;49m\u001b[43mconfig\u001b[49m\u001b[38;5;241;43m.\u001b[39;49m\u001b[43mget\u001b[49m\u001b[43m(\u001b[49m\u001b[38;5;124;43m\"\u001b[39;49m\u001b[38;5;124;43mmetadata\u001b[39;49m\u001b[38;5;124;43m\"\u001b[39;49m\u001b[43m)\u001b[49m\u001b[43m,\u001b[49m\n\u001b[1;32m    374\u001b[0m \u001b[43m            \u001b[49m\u001b[43mrun_name\u001b[49m\u001b[38;5;241;43m=\u001b[39;49m\u001b[43mconfig\u001b[49m\u001b[38;5;241;43m.\u001b[39;49m\u001b[43mget\u001b[49m\u001b[43m(\u001b[49m\u001b[38;5;124;43m\"\u001b[39;49m\u001b[38;5;124;43mrun_name\u001b[39;49m\u001b[38;5;124;43m\"\u001b[39;49m\u001b[43m)\u001b[49m\u001b[43m,\u001b[49m\n\u001b[1;32m    375\u001b[0m \u001b[43m            \u001b[49m\u001b[43mrun_id\u001b[49m\u001b[38;5;241;43m=\u001b[39;49m\u001b[43mconfig\u001b[49m\u001b[38;5;241;43m.\u001b[39;49m\u001b[43mpop\u001b[49m\u001b[43m(\u001b[49m\u001b[38;5;124;43m\"\u001b[39;49m\u001b[38;5;124;43mrun_id\u001b[39;49m\u001b[38;5;124;43m\"\u001b[39;49m\u001b[43m,\u001b[49m\u001b[43m \u001b[49m\u001b[38;5;28;43;01mNone\u001b[39;49;00m\u001b[43m)\u001b[49m\u001b[43m,\u001b[49m\n\u001b[1;32m    376\u001b[0m \u001b[43m            \u001b[49m\u001b[38;5;241;43m*\u001b[39;49m\u001b[38;5;241;43m*\u001b[39;49m\u001b[43mkwargs\u001b[49m\u001b[43m,\u001b[49m\n\u001b[1;32m    377\u001b[0m \u001b[43m        \u001b[49m\u001b[43m)\u001b[49m\u001b[38;5;241m.\u001b[39mgenerations[\u001b[38;5;241m0\u001b[39m][\u001b[38;5;241m0\u001b[39m],\n\u001b[1;32m    378\u001b[0m     )\u001b[38;5;241m.\u001b[39mmessage\n",
      "File \u001b[0;32m~/Desktop/AgentVerse/AgentVerse/lib/python3.9/site-packages/langchain_core/language_models/chat_models.py:937\u001b[0m, in \u001b[0;36mBaseChatModel.generate_prompt\u001b[0;34m(self, prompts, stop, callbacks, **kwargs)\u001b[0m\n\u001b[1;32m    928\u001b[0m \u001b[38;5;129m@override\u001b[39m\n\u001b[1;32m    929\u001b[0m \u001b[38;5;28;01mdef\u001b[39;00m\u001b[38;5;250m \u001b[39m\u001b[38;5;21mgenerate_prompt\u001b[39m(\n\u001b[1;32m    930\u001b[0m     \u001b[38;5;28mself\u001b[39m,\n\u001b[0;32m   (...)\u001b[0m\n\u001b[1;32m    934\u001b[0m     \u001b[38;5;241m*\u001b[39m\u001b[38;5;241m*\u001b[39mkwargs: Any,\n\u001b[1;32m    935\u001b[0m ) \u001b[38;5;241m-\u001b[39m\u001b[38;5;241m>\u001b[39m LLMResult:\n\u001b[1;32m    936\u001b[0m     prompt_messages \u001b[38;5;241m=\u001b[39m [p\u001b[38;5;241m.\u001b[39mto_messages() \u001b[38;5;28;01mfor\u001b[39;00m p \u001b[38;5;129;01min\u001b[39;00m prompts]\n\u001b[0;32m--> 937\u001b[0m     \u001b[38;5;28;01mreturn\u001b[39;00m \u001b[38;5;28;43mself\u001b[39;49m\u001b[38;5;241;43m.\u001b[39;49m\u001b[43mgenerate\u001b[49m\u001b[43m(\u001b[49m\u001b[43mprompt_messages\u001b[49m\u001b[43m,\u001b[49m\u001b[43m \u001b[49m\u001b[43mstop\u001b[49m\u001b[38;5;241;43m=\u001b[39;49m\u001b[43mstop\u001b[49m\u001b[43m,\u001b[49m\u001b[43m \u001b[49m\u001b[43mcallbacks\u001b[49m\u001b[38;5;241;43m=\u001b[39;49m\u001b[43mcallbacks\u001b[49m\u001b[43m,\u001b[49m\u001b[43m \u001b[49m\u001b[38;5;241;43m*\u001b[39;49m\u001b[38;5;241;43m*\u001b[39;49m\u001b[43mkwargs\u001b[49m\u001b[43m)\u001b[49m\n",
      "File \u001b[0;32m~/Desktop/AgentVerse/AgentVerse/lib/python3.9/site-packages/langchain_core/language_models/chat_models.py:759\u001b[0m, in \u001b[0;36mBaseChatModel.generate\u001b[0;34m(self, messages, stop, callbacks, tags, metadata, run_name, run_id, **kwargs)\u001b[0m\n\u001b[1;32m    756\u001b[0m \u001b[38;5;28;01mfor\u001b[39;00m i, m \u001b[38;5;129;01min\u001b[39;00m \u001b[38;5;28menumerate\u001b[39m(messages):\n\u001b[1;32m    757\u001b[0m     \u001b[38;5;28;01mtry\u001b[39;00m:\n\u001b[1;32m    758\u001b[0m         results\u001b[38;5;241m.\u001b[39mappend(\n\u001b[0;32m--> 759\u001b[0m             \u001b[38;5;28;43mself\u001b[39;49m\u001b[38;5;241;43m.\u001b[39;49m\u001b[43m_generate_with_cache\u001b[49m\u001b[43m(\u001b[49m\n\u001b[1;32m    760\u001b[0m \u001b[43m                \u001b[49m\u001b[43mm\u001b[49m\u001b[43m,\u001b[49m\n\u001b[1;32m    761\u001b[0m \u001b[43m                \u001b[49m\u001b[43mstop\u001b[49m\u001b[38;5;241;43m=\u001b[39;49m\u001b[43mstop\u001b[49m\u001b[43m,\u001b[49m\n\u001b[1;32m    762\u001b[0m \u001b[43m                \u001b[49m\u001b[43mrun_manager\u001b[49m\u001b[38;5;241;43m=\u001b[39;49m\u001b[43mrun_managers\u001b[49m\u001b[43m[\u001b[49m\u001b[43mi\u001b[49m\u001b[43m]\u001b[49m\u001b[43m \u001b[49m\u001b[38;5;28;43;01mif\u001b[39;49;00m\u001b[43m \u001b[49m\u001b[43mrun_managers\u001b[49m\u001b[43m \u001b[49m\u001b[38;5;28;43;01melse\u001b[39;49;00m\u001b[43m \u001b[49m\u001b[38;5;28;43;01mNone\u001b[39;49;00m\u001b[43m,\u001b[49m\n\u001b[1;32m    763\u001b[0m \u001b[43m                \u001b[49m\u001b[38;5;241;43m*\u001b[39;49m\u001b[38;5;241;43m*\u001b[39;49m\u001b[43mkwargs\u001b[49m\u001b[43m,\u001b[49m\n\u001b[1;32m    764\u001b[0m \u001b[43m            \u001b[49m\u001b[43m)\u001b[49m\n\u001b[1;32m    765\u001b[0m         )\n\u001b[1;32m    766\u001b[0m     \u001b[38;5;28;01mexcept\u001b[39;00m \u001b[38;5;167;01mBaseException\u001b[39;00m \u001b[38;5;28;01mas\u001b[39;00m e:\n\u001b[1;32m    767\u001b[0m         \u001b[38;5;28;01mif\u001b[39;00m run_managers:\n",
      "File \u001b[0;32m~/Desktop/AgentVerse/AgentVerse/lib/python3.9/site-packages/langchain_core/language_models/chat_models.py:1002\u001b[0m, in \u001b[0;36mBaseChatModel._generate_with_cache\u001b[0;34m(self, messages, stop, run_manager, **kwargs)\u001b[0m\n\u001b[1;32m   1000\u001b[0m     result \u001b[38;5;241m=\u001b[39m generate_from_stream(\u001b[38;5;28miter\u001b[39m(chunks))\n\u001b[1;32m   1001\u001b[0m \u001b[38;5;28;01melif\u001b[39;00m inspect\u001b[38;5;241m.\u001b[39msignature(\u001b[38;5;28mself\u001b[39m\u001b[38;5;241m.\u001b[39m_generate)\u001b[38;5;241m.\u001b[39mparameters\u001b[38;5;241m.\u001b[39mget(\u001b[38;5;124m\"\u001b[39m\u001b[38;5;124mrun_manager\u001b[39m\u001b[38;5;124m\"\u001b[39m):\n\u001b[0;32m-> 1002\u001b[0m     result \u001b[38;5;241m=\u001b[39m \u001b[38;5;28;43mself\u001b[39;49m\u001b[38;5;241;43m.\u001b[39;49m\u001b[43m_generate\u001b[49m\u001b[43m(\u001b[49m\n\u001b[1;32m   1003\u001b[0m \u001b[43m        \u001b[49m\u001b[43mmessages\u001b[49m\u001b[43m,\u001b[49m\u001b[43m \u001b[49m\u001b[43mstop\u001b[49m\u001b[38;5;241;43m=\u001b[39;49m\u001b[43mstop\u001b[49m\u001b[43m,\u001b[49m\u001b[43m \u001b[49m\u001b[43mrun_manager\u001b[49m\u001b[38;5;241;43m=\u001b[39;49m\u001b[43mrun_manager\u001b[49m\u001b[43m,\u001b[49m\u001b[43m \u001b[49m\u001b[38;5;241;43m*\u001b[39;49m\u001b[38;5;241;43m*\u001b[39;49m\u001b[43mkwargs\u001b[49m\n\u001b[1;32m   1004\u001b[0m \u001b[43m    \u001b[49m\u001b[43m)\u001b[49m\n\u001b[1;32m   1005\u001b[0m \u001b[38;5;28;01melse\u001b[39;00m:\n\u001b[1;32m   1006\u001b[0m     result \u001b[38;5;241m=\u001b[39m \u001b[38;5;28mself\u001b[39m\u001b[38;5;241m.\u001b[39m_generate(messages, stop\u001b[38;5;241m=\u001b[39mstop, \u001b[38;5;241m*\u001b[39m\u001b[38;5;241m*\u001b[39mkwargs)\n",
      "File \u001b[0;32m~/Desktop/AgentVerse/AgentVerse/lib/python3.9/site-packages/langchain_groq/chat_models.py:498\u001b[0m, in \u001b[0;36mChatGroq._generate\u001b[0;34m(self, messages, stop, run_manager, **kwargs)\u001b[0m\n\u001b[1;32m    493\u001b[0m message_dicts, params \u001b[38;5;241m=\u001b[39m \u001b[38;5;28mself\u001b[39m\u001b[38;5;241m.\u001b[39m_create_message_dicts(messages, stop)\n\u001b[1;32m    494\u001b[0m params \u001b[38;5;241m=\u001b[39m {\n\u001b[1;32m    495\u001b[0m     \u001b[38;5;241m*\u001b[39m\u001b[38;5;241m*\u001b[39mparams,\n\u001b[1;32m    496\u001b[0m     \u001b[38;5;241m*\u001b[39m\u001b[38;5;241m*\u001b[39mkwargs,\n\u001b[1;32m    497\u001b[0m }\n\u001b[0;32m--> 498\u001b[0m response \u001b[38;5;241m=\u001b[39m \u001b[38;5;28;43mself\u001b[39;49m\u001b[38;5;241;43m.\u001b[39;49m\u001b[43mclient\u001b[49m\u001b[38;5;241;43m.\u001b[39;49m\u001b[43mcreate\u001b[49m\u001b[43m(\u001b[49m\u001b[43mmessages\u001b[49m\u001b[38;5;241;43m=\u001b[39;49m\u001b[43mmessage_dicts\u001b[49m\u001b[43m,\u001b[49m\u001b[43m \u001b[49m\u001b[38;5;241;43m*\u001b[39;49m\u001b[38;5;241;43m*\u001b[39;49m\u001b[43mparams\u001b[49m\u001b[43m)\u001b[49m\n\u001b[1;32m    499\u001b[0m \u001b[38;5;28;01mreturn\u001b[39;00m \u001b[38;5;28mself\u001b[39m\u001b[38;5;241m.\u001b[39m_create_chat_result(response)\n",
      "File \u001b[0;32m~/Desktop/AgentVerse/AgentVerse/lib/python3.9/site-packages/groq/resources/chat/completions.py:322\u001b[0m, in \u001b[0;36mCompletions.create\u001b[0;34m(self, messages, model, frequency_penalty, function_call, functions, logit_bias, logprobs, max_completion_tokens, max_tokens, n, parallel_tool_calls, presence_penalty, reasoning_format, response_format, seed, service_tier, stop, stream, temperature, tool_choice, tools, top_logprobs, top_p, user, extra_headers, extra_query, extra_body, timeout)\u001b[0m\n\u001b[1;32m    166\u001b[0m \u001b[38;5;28;01mdef\u001b[39;00m\u001b[38;5;250m \u001b[39m\u001b[38;5;21mcreate\u001b[39m(\n\u001b[1;32m    167\u001b[0m     \u001b[38;5;28mself\u001b[39m,\n\u001b[1;32m    168\u001b[0m     \u001b[38;5;241m*\u001b[39m,\n\u001b[0;32m   (...)\u001b[0m\n\u001b[1;32m    198\u001b[0m     timeout: \u001b[38;5;28mfloat\u001b[39m \u001b[38;5;241m|\u001b[39m httpx\u001b[38;5;241m.\u001b[39mTimeout \u001b[38;5;241m|\u001b[39m \u001b[38;5;28;01mNone\u001b[39;00m \u001b[38;5;241m|\u001b[39m NotGiven \u001b[38;5;241m=\u001b[39m NOT_GIVEN,\n\u001b[1;32m    199\u001b[0m ) \u001b[38;5;241m-\u001b[39m\u001b[38;5;241m>\u001b[39m ChatCompletion \u001b[38;5;241m|\u001b[39m Stream[ChatCompletionChunk]:\n\u001b[1;32m    200\u001b[0m \u001b[38;5;250m    \u001b[39m\u001b[38;5;124;03m\"\"\"\u001b[39;00m\n\u001b[1;32m    201\u001b[0m \u001b[38;5;124;03m    Creates a model response for the given chat conversation.\u001b[39;00m\n\u001b[1;32m    202\u001b[0m \n\u001b[0;32m   (...)\u001b[0m\n\u001b[1;32m    320\u001b[0m \u001b[38;5;124;03m      timeout: Override the client-level default timeout for this request, in seconds\u001b[39;00m\n\u001b[1;32m    321\u001b[0m \u001b[38;5;124;03m    \"\"\"\u001b[39;00m\n\u001b[0;32m--> 322\u001b[0m     \u001b[38;5;28;01mreturn\u001b[39;00m \u001b[38;5;28;43mself\u001b[39;49m\u001b[38;5;241;43m.\u001b[39;49m\u001b[43m_post\u001b[49m\u001b[43m(\u001b[49m\n\u001b[1;32m    323\u001b[0m \u001b[43m        \u001b[49m\u001b[38;5;124;43m\"\u001b[39;49m\u001b[38;5;124;43m/openai/v1/chat/completions\u001b[39;49m\u001b[38;5;124;43m\"\u001b[39;49m\u001b[43m,\u001b[49m\n\u001b[1;32m    324\u001b[0m \u001b[43m        \u001b[49m\u001b[43mbody\u001b[49m\u001b[38;5;241;43m=\u001b[39;49m\u001b[43mmaybe_transform\u001b[49m\u001b[43m(\u001b[49m\n\u001b[1;32m    325\u001b[0m \u001b[43m            \u001b[49m\u001b[43m{\u001b[49m\n\u001b[1;32m    326\u001b[0m \u001b[43m                \u001b[49m\u001b[38;5;124;43m\"\u001b[39;49m\u001b[38;5;124;43mmessages\u001b[39;49m\u001b[38;5;124;43m\"\u001b[39;49m\u001b[43m:\u001b[49m\u001b[43m \u001b[49m\u001b[43mmessages\u001b[49m\u001b[43m,\u001b[49m\n\u001b[1;32m    327\u001b[0m \u001b[43m                \u001b[49m\u001b[38;5;124;43m\"\u001b[39;49m\u001b[38;5;124;43mmodel\u001b[39;49m\u001b[38;5;124;43m\"\u001b[39;49m\u001b[43m:\u001b[49m\u001b[43m \u001b[49m\u001b[43mmodel\u001b[49m\u001b[43m,\u001b[49m\n\u001b[1;32m    328\u001b[0m \u001b[43m                \u001b[49m\u001b[38;5;124;43m\"\u001b[39;49m\u001b[38;5;124;43mfrequency_penalty\u001b[39;49m\u001b[38;5;124;43m\"\u001b[39;49m\u001b[43m:\u001b[49m\u001b[43m \u001b[49m\u001b[43mfrequency_penalty\u001b[49m\u001b[43m,\u001b[49m\n\u001b[1;32m    329\u001b[0m \u001b[43m                \u001b[49m\u001b[38;5;124;43m\"\u001b[39;49m\u001b[38;5;124;43mfunction_call\u001b[39;49m\u001b[38;5;124;43m\"\u001b[39;49m\u001b[43m:\u001b[49m\u001b[43m \u001b[49m\u001b[43mfunction_call\u001b[49m\u001b[43m,\u001b[49m\n\u001b[1;32m    330\u001b[0m \u001b[43m                \u001b[49m\u001b[38;5;124;43m\"\u001b[39;49m\u001b[38;5;124;43mfunctions\u001b[39;49m\u001b[38;5;124;43m\"\u001b[39;49m\u001b[43m:\u001b[49m\u001b[43m \u001b[49m\u001b[43mfunctions\u001b[49m\u001b[43m,\u001b[49m\n\u001b[1;32m    331\u001b[0m \u001b[43m                \u001b[49m\u001b[38;5;124;43m\"\u001b[39;49m\u001b[38;5;124;43mlogit_bias\u001b[39;49m\u001b[38;5;124;43m\"\u001b[39;49m\u001b[43m:\u001b[49m\u001b[43m \u001b[49m\u001b[43mlogit_bias\u001b[49m\u001b[43m,\u001b[49m\n\u001b[1;32m    332\u001b[0m \u001b[43m                \u001b[49m\u001b[38;5;124;43m\"\u001b[39;49m\u001b[38;5;124;43mlogprobs\u001b[39;49m\u001b[38;5;124;43m\"\u001b[39;49m\u001b[43m:\u001b[49m\u001b[43m \u001b[49m\u001b[43mlogprobs\u001b[49m\u001b[43m,\u001b[49m\n\u001b[1;32m    333\u001b[0m \u001b[43m                \u001b[49m\u001b[38;5;124;43m\"\u001b[39;49m\u001b[38;5;124;43mmax_completion_tokens\u001b[39;49m\u001b[38;5;124;43m\"\u001b[39;49m\u001b[43m:\u001b[49m\u001b[43m \u001b[49m\u001b[43mmax_completion_tokens\u001b[49m\u001b[43m,\u001b[49m\n\u001b[1;32m    334\u001b[0m \u001b[43m                \u001b[49m\u001b[38;5;124;43m\"\u001b[39;49m\u001b[38;5;124;43mmax_tokens\u001b[39;49m\u001b[38;5;124;43m\"\u001b[39;49m\u001b[43m:\u001b[49m\u001b[43m \u001b[49m\u001b[43mmax_tokens\u001b[49m\u001b[43m,\u001b[49m\n\u001b[1;32m    335\u001b[0m \u001b[43m                \u001b[49m\u001b[38;5;124;43m\"\u001b[39;49m\u001b[38;5;124;43mn\u001b[39;49m\u001b[38;5;124;43m\"\u001b[39;49m\u001b[43m:\u001b[49m\u001b[43m \u001b[49m\u001b[43mn\u001b[49m\u001b[43m,\u001b[49m\n\u001b[1;32m    336\u001b[0m \u001b[43m                \u001b[49m\u001b[38;5;124;43m\"\u001b[39;49m\u001b[38;5;124;43mparallel_tool_calls\u001b[39;49m\u001b[38;5;124;43m\"\u001b[39;49m\u001b[43m:\u001b[49m\u001b[43m \u001b[49m\u001b[43mparallel_tool_calls\u001b[49m\u001b[43m,\u001b[49m\n\u001b[1;32m    337\u001b[0m \u001b[43m                \u001b[49m\u001b[38;5;124;43m\"\u001b[39;49m\u001b[38;5;124;43mpresence_penalty\u001b[39;49m\u001b[38;5;124;43m\"\u001b[39;49m\u001b[43m:\u001b[49m\u001b[43m \u001b[49m\u001b[43mpresence_penalty\u001b[49m\u001b[43m,\u001b[49m\n\u001b[1;32m    338\u001b[0m \u001b[43m                \u001b[49m\u001b[38;5;124;43m\"\u001b[39;49m\u001b[38;5;124;43mreasoning_format\u001b[39;49m\u001b[38;5;124;43m\"\u001b[39;49m\u001b[43m:\u001b[49m\u001b[43m \u001b[49m\u001b[43mreasoning_format\u001b[49m\u001b[43m,\u001b[49m\n\u001b[1;32m    339\u001b[0m \u001b[43m                \u001b[49m\u001b[38;5;124;43m\"\u001b[39;49m\u001b[38;5;124;43mresponse_format\u001b[39;49m\u001b[38;5;124;43m\"\u001b[39;49m\u001b[43m:\u001b[49m\u001b[43m \u001b[49m\u001b[43mresponse_format\u001b[49m\u001b[43m,\u001b[49m\n\u001b[1;32m    340\u001b[0m \u001b[43m                \u001b[49m\u001b[38;5;124;43m\"\u001b[39;49m\u001b[38;5;124;43mseed\u001b[39;49m\u001b[38;5;124;43m\"\u001b[39;49m\u001b[43m:\u001b[49m\u001b[43m \u001b[49m\u001b[43mseed\u001b[49m\u001b[43m,\u001b[49m\n\u001b[1;32m    341\u001b[0m \u001b[43m                \u001b[49m\u001b[38;5;124;43m\"\u001b[39;49m\u001b[38;5;124;43mservice_tier\u001b[39;49m\u001b[38;5;124;43m\"\u001b[39;49m\u001b[43m:\u001b[49m\u001b[43m \u001b[49m\u001b[43mservice_tier\u001b[49m\u001b[43m,\u001b[49m\n\u001b[1;32m    342\u001b[0m \u001b[43m                \u001b[49m\u001b[38;5;124;43m\"\u001b[39;49m\u001b[38;5;124;43mstop\u001b[39;49m\u001b[38;5;124;43m\"\u001b[39;49m\u001b[43m:\u001b[49m\u001b[43m \u001b[49m\u001b[43mstop\u001b[49m\u001b[43m,\u001b[49m\n\u001b[1;32m    343\u001b[0m \u001b[43m                \u001b[49m\u001b[38;5;124;43m\"\u001b[39;49m\u001b[38;5;124;43mstream\u001b[39;49m\u001b[38;5;124;43m\"\u001b[39;49m\u001b[43m:\u001b[49m\u001b[43m \u001b[49m\u001b[43mstream\u001b[49m\u001b[43m,\u001b[49m\n\u001b[1;32m    344\u001b[0m \u001b[43m                \u001b[49m\u001b[38;5;124;43m\"\u001b[39;49m\u001b[38;5;124;43mtemperature\u001b[39;49m\u001b[38;5;124;43m\"\u001b[39;49m\u001b[43m:\u001b[49m\u001b[43m \u001b[49m\u001b[43mtemperature\u001b[49m\u001b[43m,\u001b[49m\n\u001b[1;32m    345\u001b[0m \u001b[43m                \u001b[49m\u001b[38;5;124;43m\"\u001b[39;49m\u001b[38;5;124;43mtool_choice\u001b[39;49m\u001b[38;5;124;43m\"\u001b[39;49m\u001b[43m:\u001b[49m\u001b[43m \u001b[49m\u001b[43mtool_choice\u001b[49m\u001b[43m,\u001b[49m\n\u001b[1;32m    346\u001b[0m \u001b[43m                \u001b[49m\u001b[38;5;124;43m\"\u001b[39;49m\u001b[38;5;124;43mtools\u001b[39;49m\u001b[38;5;124;43m\"\u001b[39;49m\u001b[43m:\u001b[49m\u001b[43m \u001b[49m\u001b[43mtools\u001b[49m\u001b[43m,\u001b[49m\n\u001b[1;32m    347\u001b[0m \u001b[43m                \u001b[49m\u001b[38;5;124;43m\"\u001b[39;49m\u001b[38;5;124;43mtop_logprobs\u001b[39;49m\u001b[38;5;124;43m\"\u001b[39;49m\u001b[43m:\u001b[49m\u001b[43m \u001b[49m\u001b[43mtop_logprobs\u001b[49m\u001b[43m,\u001b[49m\n\u001b[1;32m    348\u001b[0m \u001b[43m                \u001b[49m\u001b[38;5;124;43m\"\u001b[39;49m\u001b[38;5;124;43mtop_p\u001b[39;49m\u001b[38;5;124;43m\"\u001b[39;49m\u001b[43m:\u001b[49m\u001b[43m \u001b[49m\u001b[43mtop_p\u001b[49m\u001b[43m,\u001b[49m\n\u001b[1;32m    349\u001b[0m \u001b[43m                \u001b[49m\u001b[38;5;124;43m\"\u001b[39;49m\u001b[38;5;124;43muser\u001b[39;49m\u001b[38;5;124;43m\"\u001b[39;49m\u001b[43m:\u001b[49m\u001b[43m \u001b[49m\u001b[43muser\u001b[49m\u001b[43m,\u001b[49m\n\u001b[1;32m    350\u001b[0m \u001b[43m            \u001b[49m\u001b[43m}\u001b[49m\u001b[43m,\u001b[49m\n\u001b[1;32m    351\u001b[0m \u001b[43m            \u001b[49m\u001b[43mcompletion_create_params\u001b[49m\u001b[38;5;241;43m.\u001b[39;49m\u001b[43mCompletionCreateParams\u001b[49m\u001b[43m,\u001b[49m\n\u001b[1;32m    352\u001b[0m \u001b[43m        \u001b[49m\u001b[43m)\u001b[49m\u001b[43m,\u001b[49m\n\u001b[1;32m    353\u001b[0m \u001b[43m        \u001b[49m\u001b[43moptions\u001b[49m\u001b[38;5;241;43m=\u001b[39;49m\u001b[43mmake_request_options\u001b[49m\u001b[43m(\u001b[49m\n\u001b[1;32m    354\u001b[0m \u001b[43m            \u001b[49m\u001b[43mextra_headers\u001b[49m\u001b[38;5;241;43m=\u001b[39;49m\u001b[43mextra_headers\u001b[49m\u001b[43m,\u001b[49m\u001b[43m \u001b[49m\u001b[43mextra_query\u001b[49m\u001b[38;5;241;43m=\u001b[39;49m\u001b[43mextra_query\u001b[49m\u001b[43m,\u001b[49m\u001b[43m \u001b[49m\u001b[43mextra_body\u001b[49m\u001b[38;5;241;43m=\u001b[39;49m\u001b[43mextra_body\u001b[49m\u001b[43m,\u001b[49m\u001b[43m \u001b[49m\u001b[43mtimeout\u001b[49m\u001b[38;5;241;43m=\u001b[39;49m\u001b[43mtimeout\u001b[49m\n\u001b[1;32m    355\u001b[0m \u001b[43m        \u001b[49m\u001b[43m)\u001b[49m\u001b[43m,\u001b[49m\n\u001b[1;32m    356\u001b[0m \u001b[43m        \u001b[49m\u001b[43mcast_to\u001b[49m\u001b[38;5;241;43m=\u001b[39;49m\u001b[43mChatCompletion\u001b[49m\u001b[43m,\u001b[49m\n\u001b[1;32m    357\u001b[0m \u001b[43m        \u001b[49m\u001b[43mstream\u001b[49m\u001b[38;5;241;43m=\u001b[39;49m\u001b[43mstream\u001b[49m\u001b[43m \u001b[49m\u001b[38;5;129;43;01mor\u001b[39;49;00m\u001b[43m \u001b[49m\u001b[38;5;28;43;01mFalse\u001b[39;49;00m\u001b[43m,\u001b[49m\n\u001b[1;32m    358\u001b[0m \u001b[43m        \u001b[49m\u001b[43mstream_cls\u001b[49m\u001b[38;5;241;43m=\u001b[39;49m\u001b[43mStream\u001b[49m\u001b[43m[\u001b[49m\u001b[43mChatCompletionChunk\u001b[49m\u001b[43m]\u001b[49m\u001b[43m,\u001b[49m\n\u001b[1;32m    359\u001b[0m \u001b[43m    \u001b[49m\u001b[43m)\u001b[49m\n",
      "File \u001b[0;32m~/Desktop/AgentVerse/AgentVerse/lib/python3.9/site-packages/groq/_base_client.py:1225\u001b[0m, in \u001b[0;36mSyncAPIClient.post\u001b[0;34m(self, path, cast_to, body, options, files, stream, stream_cls)\u001b[0m\n\u001b[1;32m   1211\u001b[0m \u001b[38;5;28;01mdef\u001b[39;00m\u001b[38;5;250m \u001b[39m\u001b[38;5;21mpost\u001b[39m(\n\u001b[1;32m   1212\u001b[0m     \u001b[38;5;28mself\u001b[39m,\n\u001b[1;32m   1213\u001b[0m     path: \u001b[38;5;28mstr\u001b[39m,\n\u001b[0;32m   (...)\u001b[0m\n\u001b[1;32m   1220\u001b[0m     stream_cls: \u001b[38;5;28mtype\u001b[39m[_StreamT] \u001b[38;5;241m|\u001b[39m \u001b[38;5;28;01mNone\u001b[39;00m \u001b[38;5;241m=\u001b[39m \u001b[38;5;28;01mNone\u001b[39;00m,\n\u001b[1;32m   1221\u001b[0m ) \u001b[38;5;241m-\u001b[39m\u001b[38;5;241m>\u001b[39m ResponseT \u001b[38;5;241m|\u001b[39m _StreamT:\n\u001b[1;32m   1222\u001b[0m     opts \u001b[38;5;241m=\u001b[39m FinalRequestOptions\u001b[38;5;241m.\u001b[39mconstruct(\n\u001b[1;32m   1223\u001b[0m         method\u001b[38;5;241m=\u001b[39m\u001b[38;5;124m\"\u001b[39m\u001b[38;5;124mpost\u001b[39m\u001b[38;5;124m\"\u001b[39m, url\u001b[38;5;241m=\u001b[39mpath, json_data\u001b[38;5;241m=\u001b[39mbody, files\u001b[38;5;241m=\u001b[39mto_httpx_files(files), \u001b[38;5;241m*\u001b[39m\u001b[38;5;241m*\u001b[39moptions\n\u001b[1;32m   1224\u001b[0m     )\n\u001b[0;32m-> 1225\u001b[0m     \u001b[38;5;28;01mreturn\u001b[39;00m cast(ResponseT, \u001b[38;5;28;43mself\u001b[39;49m\u001b[38;5;241;43m.\u001b[39;49m\u001b[43mrequest\u001b[49m\u001b[43m(\u001b[49m\u001b[43mcast_to\u001b[49m\u001b[43m,\u001b[49m\u001b[43m \u001b[49m\u001b[43mopts\u001b[49m\u001b[43m,\u001b[49m\u001b[43m \u001b[49m\u001b[43mstream\u001b[49m\u001b[38;5;241;43m=\u001b[39;49m\u001b[43mstream\u001b[49m\u001b[43m,\u001b[49m\u001b[43m \u001b[49m\u001b[43mstream_cls\u001b[49m\u001b[38;5;241;43m=\u001b[39;49m\u001b[43mstream_cls\u001b[49m\u001b[43m)\u001b[49m)\n",
      "File \u001b[0;32m~/Desktop/AgentVerse/AgentVerse/lib/python3.9/site-packages/groq/_base_client.py:917\u001b[0m, in \u001b[0;36mSyncAPIClient.request\u001b[0;34m(self, cast_to, options, remaining_retries, stream, stream_cls)\u001b[0m\n\u001b[1;32m    914\u001b[0m \u001b[38;5;28;01melse\u001b[39;00m:\n\u001b[1;32m    915\u001b[0m     retries_taken \u001b[38;5;241m=\u001b[39m \u001b[38;5;241m0\u001b[39m\n\u001b[0;32m--> 917\u001b[0m \u001b[38;5;28;01mreturn\u001b[39;00m \u001b[38;5;28;43mself\u001b[39;49m\u001b[38;5;241;43m.\u001b[39;49m\u001b[43m_request\u001b[49m\u001b[43m(\u001b[49m\n\u001b[1;32m    918\u001b[0m \u001b[43m    \u001b[49m\u001b[43mcast_to\u001b[49m\u001b[38;5;241;43m=\u001b[39;49m\u001b[43mcast_to\u001b[49m\u001b[43m,\u001b[49m\n\u001b[1;32m    919\u001b[0m \u001b[43m    \u001b[49m\u001b[43moptions\u001b[49m\u001b[38;5;241;43m=\u001b[39;49m\u001b[43moptions\u001b[49m\u001b[43m,\u001b[49m\n\u001b[1;32m    920\u001b[0m \u001b[43m    \u001b[49m\u001b[43mstream\u001b[49m\u001b[38;5;241;43m=\u001b[39;49m\u001b[43mstream\u001b[49m\u001b[43m,\u001b[49m\n\u001b[1;32m    921\u001b[0m \u001b[43m    \u001b[49m\u001b[43mstream_cls\u001b[49m\u001b[38;5;241;43m=\u001b[39;49m\u001b[43mstream_cls\u001b[49m\u001b[43m,\u001b[49m\n\u001b[1;32m    922\u001b[0m \u001b[43m    \u001b[49m\u001b[43mretries_taken\u001b[49m\u001b[38;5;241;43m=\u001b[39;49m\u001b[43mretries_taken\u001b[49m\u001b[43m,\u001b[49m\n\u001b[1;32m    923\u001b[0m \u001b[43m\u001b[49m\u001b[43m)\u001b[49m\n",
      "File \u001b[0;32m~/Desktop/AgentVerse/AgentVerse/lib/python3.9/site-packages/groq/_base_client.py:1020\u001b[0m, in \u001b[0;36mSyncAPIClient._request\u001b[0;34m(self, cast_to, options, retries_taken, stream, stream_cls)\u001b[0m\n\u001b[1;32m   1017\u001b[0m         err\u001b[38;5;241m.\u001b[39mresponse\u001b[38;5;241m.\u001b[39mread()\n\u001b[1;32m   1019\u001b[0m     log\u001b[38;5;241m.\u001b[39mdebug(\u001b[38;5;124m\"\u001b[39m\u001b[38;5;124mRe-raising status error\u001b[39m\u001b[38;5;124m\"\u001b[39m)\n\u001b[0;32m-> 1020\u001b[0m     \u001b[38;5;28;01mraise\u001b[39;00m \u001b[38;5;28mself\u001b[39m\u001b[38;5;241m.\u001b[39m_make_status_error_from_response(err\u001b[38;5;241m.\u001b[39mresponse) \u001b[38;5;28;01mfrom\u001b[39;00m\u001b[38;5;250m \u001b[39m\u001b[38;5;28;01mNone\u001b[39;00m\n\u001b[1;32m   1022\u001b[0m \u001b[38;5;28;01mreturn\u001b[39;00m \u001b[38;5;28mself\u001b[39m\u001b[38;5;241m.\u001b[39m_process_response(\n\u001b[1;32m   1023\u001b[0m     cast_to\u001b[38;5;241m=\u001b[39mcast_to,\n\u001b[1;32m   1024\u001b[0m     options\u001b[38;5;241m=\u001b[39moptions,\n\u001b[0;32m   (...)\u001b[0m\n\u001b[1;32m   1028\u001b[0m     retries_taken\u001b[38;5;241m=\u001b[39mretries_taken,\n\u001b[1;32m   1029\u001b[0m )\n",
      "\u001b[0;31mBadRequestError\u001b[0m: Error code: 400 - {'error': {'message': \"Failed to call a function. Please adjust your prompt. See 'failed_generation' for more details.\", 'type': 'invalid_request_error', 'code': 'tool_use_failed', 'failed_generation': '<tool-use>\\n{\\n\\t\"tool_call\": {\\n\\t\\t\"id\": \"pending\",\\n\\t\\t\"type\": \"function\",\\n\\t\\t\"function\": {\\n\\t\\t\\t\"name\": \"MarketDataTool\"\\n\\t\\t},\\n\\t\\t\"parameters\": {\\n\\t\\t\\t\"input\": \"Apple\"\\n\\t\\t}\\n\\t}\\n}\\n</tool-use> \\n<tool-use>\\n{\\n\\t\"tool_call\": {\\n\\t\\t\"id\": \"pending\",\\n\\t\\t\"type\": \"function\",\\n\\t\\t\"function\": {\\n\\t\\t\\t\"name\": \"MarketDataTool\"\\n\\t\\t},\\n\\t\\t\"parameters\": {\\n\\t\\t\\t\"input\": \"Xiomi\"\\n\\t\\t}\\n\\t}\\n}\\n</tool-use> \\n'}}"
     ]
    }
   ],
   "source": [
    "print(refined_query)\n",
    "orchetrator(refined_query)"
   ]
  },
  {
   "cell_type": "code",
   "execution_count": null,
   "metadata": {},
   "outputs": [],
   "source": []
  },
  {
   "cell_type": "code",
   "execution_count": null,
   "metadata": {},
   "outputs": [],
   "source": []
  }
 ],
 "metadata": {
  "kernelspec": {
   "display_name": "AgentVerse",
   "language": "python",
   "name": "python3"
  },
  "language_info": {
   "codemirror_mode": {
    "name": "ipython",
    "version": 3
   },
   "file_extension": ".py",
   "mimetype": "text/x-python",
   "name": "python",
   "nbconvert_exporter": "python",
   "pygments_lexer": "ipython3",
   "version": "3.9.6"
  }
 },
 "nbformat": 4,
 "nbformat_minor": 2
}

{
 "cells": [
  {
   "cell_type": "code",
   "execution_count": 1,
   "metadata": {},
   "outputs": [],
   "source": [
    "# User Input\n",
    "#    ↓\n",
    "# Enricher LLM → parses natural language query into smart intent & goal metadata\n",
    "#    ↓\n",
    "# Orchestrator LLM → decides what tools to call (MarketDataTool, NewsTool, etc.)\n",
    "#    ↓\n",
    "# Parallel Tool Execution (runs only the selected ones)\n",
    "#    ↓\n",
    "# Synthesizer LLM → builds final human-readable report\n",
    "#    ↓\n",
    "# ✅ Done\n"
   ]
  },
  {
   "cell_type": "code",
   "execution_count": 158,
   "metadata": {},
   "outputs": [],
   "source": [
    "import os\n",
    "from dotenv import load_dotenv\n",
    "import warnings\n",
    "warnings.filterwarnings(\"ignore\")\n",
    "\n",
    "load_dotenv()\n",
    "\n",
    "os.environ[\"GROQ_API_KEY\"] = os.getenv(\"GROQ_API_KEY\")\n"
   ]
  },
  {
   "cell_type": "code",
   "execution_count": 6,
   "metadata": {},
   "outputs": [],
   "source": [
    "from langchain_groq import ChatGroq\n",
    "\n",
    "llm = ChatGroq(model=\"Gemma2-9b-It\")"
   ]
  },
  {
   "cell_type": "code",
   "execution_count": 149,
   "metadata": {},
   "outputs": [],
   "source": [
    "from typing_extensions import TypedDict\n",
    "from pydantic import BaseModel , Field\n",
    "\n",
    "class Refined(BaseModel):\n",
    "    \n",
    "    company : str = Field(default = \"NotMentioned\", description = \"particular company mentioned if any \" )\n",
    "    intent  : str = Field(description = \"intent of the query\")\n",
    "    goal    : str = Field(description = \"goal of the query\")\n",
    "    detail_level : str = Field(default=\"Basic\" , description = \"detail level what user demands.\")\n",
    "\n",
    "\n",
    "class ToolToCall(BaseModel):\n",
    "    name : str = Field( description = \"Name of the tool to call\" )\n",
    "    reason : str = Field( description = \"contains reason why should this tool be called\" )\n",
    "\n",
    "class SocialContent(BaseModel):\n",
    "    name : str = Field( description = \"Title of the content\" )\n",
    "    reason : str = Field( description = \"social media posts about a company\" )\n",
    "\n",
    "class MessageState(TypedDict):\n",
    "    \n",
    "    user_query : str\n",
    "    refined_query : Refined\n",
    "    tools_to_call : list[ToolToCall]\n",
    "    social_details : list[SocialContent]\n",
    "    market_data : str\n",
    "    news_data : str"
   ]
  },
  {
   "cell_type": "code",
   "execution_count": 150,
   "metadata": {},
   "outputs": [],
   "source": [
    "from langchain_core.messages import HumanMessage , SystemMessage\n",
    "\n",
    "def refining_query(state : MessageState):\n",
    "    prompt = [\n",
    "        SystemMessage( content = \"You are a smart assistant that extracts user intent from stock market related queries.\" ),\n",
    "        HumanMessage( content = f\"\"\"\n",
    "        User asked : { state[\"user_query\"] }\n",
    "        Return structured content in form of :\n",
    "          company : particular company mentioned if any \n",
    "          intent  : intent of the query\n",
    "          goal : goal of the query\n",
    "          detail_level : detail level what user demands.\n",
    "\n",
    "        Note : if no company metion let company name be \"NotMentioned\"\n",
    "        \"\"\" )\n",
    "    ]\n",
    "    structured_llm = llm.with_structured_output(Refined)\n",
    "    response = structured_llm.invoke(prompt)\n",
    "    return {\"refining_query\" : response}\n",
    "    "
   ]
  },
  {
   "cell_type": "code",
   "execution_count": 190,
   "metadata": {},
   "outputs": [
    {
     "name": "stdout",
     "output_type": "stream",
     "text": [
      "{'refining_query': Refined(company='Tesla', intent='query', goal='information', detail_level='Basic')}\n"
     ]
    }
   ],
   "source": [
    "input_query = {\"user_query\" : \"Tell me about the Tesla stock market today \"}\n",
    "refined_query = refining_query(input_query)\n",
    "print(refined_query)"
   ]
  },
  {
   "cell_type": "code",
   "execution_count": 191,
   "metadata": {},
   "outputs": [],
   "source": [
    "tools_available = [\n",
    "\n",
    "    { \"name\" : \"MarketDataTool\" , \"description\": \"Fetch stock price and financial data of last 30 days.\"  },\n",
    "    { \"name\" : \"NewsTool\", \"description\" : \" Get latest news headlines about a company / related \" },\n",
    "    { \"name\" : \"CompetitorTool\", \"description\": \"Give me detailed analysis and situation of competitors of a company and tell relative position of current company in market\" },\n",
    "    { \"name\" : \"SocialMediaTool\", \"description\": \"Fetch social media posts about a company from reddit.com or twiiter or stocktwiss.com\" }\n",
    "    { \"name\" : \"Comparsion between t\"}\n",
    "\n",
    "]"
   ]
  },
  {
   "cell_type": "markdown",
   "metadata": {},
   "source": [
    "# TOOLS "
   ]
  },
  {
   "cell_type": "markdown",
   "metadata": {},
   "source": [
    "SocialMedia Tool"
   ]
  },
  {
   "cell_type": "code",
   "execution_count": 192,
   "metadata": {},
   "outputs": [],
   "source": [
    "from langchain_community.tools.tavily_search import TavilySearchResults\n",
    "\n",
    "def SocialMediaTool(state : MessageState):\n",
    "\n",
    "    \"\"\"\n",
    "    Fetch social media posts about a company from reddit.com or twiiter or stocktwiss.com\n",
    "    using tavily search\n",
    "    \"\"\"\n",
    "\n",
    "    search_tool = TavilySearchResults(max_results=15)\n",
    "    results = search_tool.invoke(f\"\"\"\n",
    "                site:reddit.com OR site:twitter.com OR site:stocktwits.com \"{state[\"refining_query\"].company}\" \n",
    "    \"\"\")\n",
    "    content = []\n",
    "    for r in results:\n",
    "        if r.get('content') and len(r.get('content').strip()) > 100:\n",
    "            content.append(\n",
    "                SocialContent(\n",
    "                    name=r.get('title'),\n",
    "                    reason=r.get('content')\n",
    "                )\n",
    "            )\n",
    "        \n",
    "    return { \"social_details\" : content }\n"
   ]
  },
  {
   "cell_type": "code",
   "execution_count": 193,
   "metadata": {},
   "outputs": [
    {
     "name": "stdout",
     "output_type": "stream",
     "text": [
      "{'social_details': [SocialContent(name='Tesla 2025 Q1 Quarterly Update Mega thread : r/teslamotors - Reddit', reason=\"r/teslamotors  \\nThe original and largest Tesla community on Reddit! An unofficial forum of owners and enthusiasts. See r/TeslaLounge for relaxed posting, and user experiences! Tesla Inc. is an energy + technology company originally from California and currently headquartered in Austin, Texas. Their mission is to accelerate the world's transition to sustainable energy. They produce vertically integrated electric vehicles, batteries, solar, and AI software and hardware solutions. [...] r/teslamotors\\nThe original and largest Tesla community on Reddit! An unofficial forum of owners and enthusiasts. See r/TeslaLounge for relaxed posting, and user experiences! Tesla Inc. is an energy + technology company originally from California and currently headquartered in Austin, Texas. Their mission is to accelerate the world's transition to sustainable energy. They produce vertically integrated electric vehicles, batteries, solar, and AI software and hardware solutions. [...] r/teslamotors\\nThe original and largest Tesla community on Reddit! An unofficial forum of owners and enthusiasts. See r/TeslaLounge for relaxed posting, and user experiences! Tesla Inc. is an energy + technology company originally from California and currently headquartered in Austin, Texas. Their mission is to accelerate the world's transition to sustainable energy. They produce vertically integrated electric vehicles, batteries, solar, and AI software and hardware solutions.\"), SocialContent(name='r/TeslaLounge - Your Relaxed Tesla Community on Reddit', reason='r/TeslaLounge: Relaxed area for all-around discussion on Tesla. This is the official Lounge for r/TeslaMotors. Share your Tesla story!'), SocialContent(name=\"The Verge: Tesla's problems are bigger than just Elon Musk - Reddit\", reason='Iterative updates to the Model 3 and Y aside, the only new product offering Tesla have is a bad, overpriced truck with extremely limited appeal.'), SocialContent(name='Elon Musk is running out of ideas to save Tesla : r/RealTesla - Reddit', reason='Elon Musk is running out of ideas to save Tesla. Elon Musk is dialing down his DOGE role that triggered protests and vandalism at Tesla stores.'), SocialContent(name='Tesla on X: \"Cybertruck Long Range now available – $62,490 (incl ...', reason=\"Tesla · @Tesla. Cybertruck Long Range now available – $62,490 (incl. Federal Tax Credit) – 362 mi of range (est.) w/ Soft Tonneau – 6' x 4\"), SocialContent(name='Tesla on X: \"Nobody wants to be in a car accident. But if the worst ...', reason='Tesla · @Tesla. Nobody wants to be in a car accident. But if the worst happens, you want to be in one of the safest vehicles on the road'), SocialContent(name='Tesla Apparently Managed To Sell Just 6406 Cybertrucks In ... - Reddit', reason=\"Considering Tesla stopped accepting trade ins, it's the only way someone that wants out will be able to unload one.\"), SocialContent(name='TESLA™ (@TeslaBand) / X', reason=\"TESLA™'s posts. TESLA™ ... Tesla ~ Real To Reel 2 (2007) Loose hearted lady sleepy was she Love for the devil brought her to me Seeds of\"), SocialContent(name='No evidence that Tesla is a retail memestock?: bad math inside', reason=\"How could Tesla report Z- earnings and still go up 10%? The usual answer is that it's a memestock bloated by retail investors. These gormless\"), SocialContent(name=\"Tesla's Remarkably Bad Quarter Is Even Worse Than It Looks - Reddit\", reason='This should be in a billboard outside of every Tesla. People should know where their dollars are going before their purchase.'), SocialContent(name='Tesla on X: \"Spring Release\" / X', reason='@Tesla. Image. Spring Release. 821 ... Tesla, as long as battery is >20%. Minor Updates. Media search results'), SocialContent(name='Tesla - X', reason='She was so impressed, she bought her own @Tesla with FSD—and now she can drive long distances & take her kids to school on her own.'), SocialContent(name='Tesla missed Q1 earnings, but the stock keeps rising, can the rally ...', reason=\"Even though Tesla falling short of Q1 earnings expectations, the stock is still rallying, primarily driven by market optimism around Trump's\"), SocialContent(name='Tesla Inventory Swells to Record Highs in North America, with One ...', reason='Tesla Inventory Swells to Record Highs in North America, with One Exception ... Tesla fanboys have to be the worst group, right? Upvote 210'), SocialContent(name='Tesla remained far ahead of the competition in Q1 2025, selling ...', reason='Tesla remained far ahead of the competition in Q1 2025, selling 128,100 EVs — more than the next 10 brands combined. General.')]}\n"
     ]
    }
   ],
   "source": [
    "\n",
    "socialcontent = SocialMediaTool(refined_query)\n",
    "print(socialcontent)"
   ]
  },
  {
   "cell_type": "markdown",
   "metadata": {},
   "source": [
    "MarketDataTool"
   ]
  },
  {
   "cell_type": "code",
   "execution_count": 194,
   "metadata": {},
   "outputs": [],
   "source": [
    "import yfinance as yf\n",
    "from datetime import datetime, timedelta\n",
    "\n",
    "\n",
    "def MarketData(state : MessageState):\n",
    "\n",
    "    \"\"\"\n",
    "    Fetches stock data for the last 30 days using yfinance.\n",
    "    \"\"\"\n",
    "    if state[\"refining_query\"].company == \"NotMentioned\":\n",
    "        return { \"market_data\" : \" Not available \" }\n",
    "    \n",
    "    ticker_response = llm.invoke( f\"\"\"\n",
    "                    What is the stock ticker symbol for the company named {state[\"refining_query\"].company}?\n",
    "                    If no company exists, just return a random company's ticker symbol.\n",
    "                    The output should only be the ticker symbol, nothing else.\n",
    "    \"\"\"\n",
    "    )\n",
    "\n",
    "    ticker = ticker_response.content.strip() \n",
    "    \n",
    "    stock = yf.Ticker(ticker)\n",
    "    data = stock.history(period=\"30d\")\n",
    "\n",
    "    summary = f\"Stock data for {ticker} i.e {state['refining_query'].company} over the last 30 days:\\n\"\n",
    "    for date,row in data.iterrows():\n",
    "        date_str = date.strftime(\"%b %d, %Y\")\n",
    "        open_price = row[\"Open\"]\n",
    "        close_price = row[\"Close\"]\n",
    "        volume = row[\"Volume\"]    \n",
    "        summary += f\"Date: {date_str}, Open: ${open_price:.2f}, Close: ${close_price:.2f}, Volume: {volume}\\n\"\n",
    "    return { \"market_data\" : summary }"
   ]
  },
  {
   "cell_type": "code",
   "execution_count": 207,
   "metadata": {},
   "outputs": [
    {
     "data": {
      "text/plain": [
       "{'market_data': 'Stock data for TSLA i.e Tesla over the last 30 days:\\nDate: Mar 14, 2025, Open: $247.31, Close: $249.98, Volume: 100242300.0\\nDate: Mar 17, 2025, Open: $245.06, Close: $238.01, Volume: 111900600.0\\nDate: Mar 18, 2025, Open: $228.16, Close: $225.31, Volume: 111477600.0\\nDate: Mar 19, 2025, Open: $231.61, Close: $235.86, Volume: 111993800.0\\nDate: Mar 20, 2025, Open: $233.35, Close: $236.26, Volume: 99028300.0\\nDate: Mar 21, 2025, Open: $234.99, Close: $248.71, Volume: 132728700.0\\nDate: Mar 24, 2025, Open: $258.08, Close: $278.39, Volume: 169079900.0\\nDate: Mar 25, 2025, Open: $283.60, Close: $288.14, Volume: 150361500.0\\nDate: Mar 26, 2025, Open: $282.66, Close: $272.06, Volume: 153629800.0\\nDate: Mar 27, 2025, Open: $272.48, Close: $273.13, Volume: 162572100.0\\nDate: Mar 28, 2025, Open: $275.58, Close: $263.55, Volume: 123809400.0\\nDate: Mar 31, 2025, Open: $249.31, Close: $259.16, Volume: 134008900.0\\nDate: Apr 01, 2025, Open: $263.80, Close: $268.46, Volume: 146486900.0\\nDate: Apr 02, 2025, Open: $254.60, Close: $282.76, Volume: 212787800.0\\nDate: Apr 03, 2025, Open: $265.29, Close: $267.28, Volume: 136174300.0\\nDate: Apr 04, 2025, Open: $255.38, Close: $239.43, Volume: 181229400.0\\nDate: Apr 07, 2025, Open: $223.78, Close: $233.29, Volume: 183453800.0\\nDate: Apr 08, 2025, Open: $245.00, Close: $221.86, Volume: 171603500.0\\nDate: Apr 09, 2025, Open: $224.69, Close: $272.20, Volume: 219433400.0\\nDate: Apr 10, 2025, Open: $260.00, Close: $252.40, Volume: 181722600.0\\nDate: Apr 11, 2025, Open: $251.84, Close: $252.31, Volume: 128948100.0\\nDate: Apr 14, 2025, Open: $258.36, Close: $252.35, Volume: 100135200.0\\nDate: Apr 15, 2025, Open: $249.91, Close: $254.11, Volume: 79594300.0\\nDate: Apr 16, 2025, Open: $247.61, Close: $241.55, Volume: 112378700.0\\nDate: Apr 17, 2025, Open: $243.47, Close: $241.37, Volume: 83404800.0\\nDate: Apr 21, 2025, Open: $230.26, Close: $227.50, Volume: 97768000.0\\nDate: Apr 22, 2025, Open: $230.96, Close: $237.97, Volume: 120858500.0\\nDate: Apr 23, 2025, Open: $254.86, Close: $250.74, Volume: 150381900.0\\nDate: Apr 24, 2025, Open: $250.50, Close: $259.51, Volume: 94464200.0\\nDate: Apr 25, 2025, Open: $261.69, Close: $284.95, Volume: 167059300.0\\n'}"
      ]
     },
     "execution_count": 207,
     "metadata": {},
     "output_type": "execute_result"
    }
   ],
   "source": [
    "MarketData(refined_query)"
   ]
  },
  {
   "cell_type": "markdown",
   "metadata": {},
   "source": [
    "NewsTool"
   ]
  },
  {
   "cell_type": "code",
   "execution_count": 212,
   "metadata": {},
   "outputs": [],
   "source": [
    "import requests\n",
    "\n",
    "os.environ[\"GNEWS_API_KEY\"] = os.getenv(\"GNEWS_API_KEY\")\n",
    "\n",
    "def NewsTool(state : MessageState):\n",
    "        \"\"\"\n",
    "        Tool that helps to fetch news related to a company \n",
    "        \"\"\"\n",
    "        url = f'https://gnews.io/api/v4/search?q={state[\"refining_query\"].company}&token={os.environ[\"GNEWS_API_KEY\"]}'\n",
    "        response = requests.get(url)\n",
    "        data = response.json()\n",
    "        # print(\"API Response:\", data) \n",
    "        if data.get(\"articles\"):\n",
    "            headlines = [article[\"title\"] for article in data[\"articles\"]]\n",
    "            return \"\\n\".join(headlines)\n",
    "        else:\n",
    "            print(\"hi\")\n",
    "            return \"No news found.\"\n"
   ]
  },
  {
   "cell_type": "code",
   "execution_count": 213,
   "metadata": {},
   "outputs": [
    {
     "name": "stdout",
     "output_type": "stream",
     "text": [
      "API Response: {'totalArticles': 93497, 'articles': [{'title': 'Big techs perdem US$ 2,66 trilhões desde a posse de Trump', 'description': 'Só o valor de mercado da Tesla, de Elon Musk, caiu 32,9% de 20 de janeiro até esta 6ª feira (25.abr). Leia no Poder360.', 'content': 'Só o valor de mercado da Tesla, de Elon Musk, caiu 32,9% de 20 de janeiro até 6ª feira (25.abr)\\nO “Magnificent Seven”, grupo das 7 gigantes do setor de tecnologia, perdeu US$ 2,66 trilhões em valor de mercado desde a posse do presidente dos Estados U... [5318 chars]', 'url': 'https://www.poder360.com.br/poder-economia/big-techs-perdem-us-266-trilhoes-desde-a-posse-de-trump/', 'image': 'https://static.poder360.com.br/2025/04/Donald-Trump-15-848x477.png', 'publishedAt': '2025-04-26T09:00:20Z', 'source': {'name': 'Poder360', 'url': 'https://www.poder360.com.br'}}, {'title': 'le NGP de Xpeng nous a bluffés', 'description': \"Vous pensiez que Tesla était seul en conduite autonome ? C'est faux évidemment. On a testé le NGP de Xpeng, en Chine, et préparez-vous à être bluffé.\", 'content': 'Vous pensiez que Tesla était seul en conduite autonome ? C’est faux évidemment. On a testé le NGP de Xpeng, en Chine, et préparez-vous à être bluffé.\\nXpeng P7+ // Source : Frandroid\\nOn parle aussi du FSD aux Etats-Unis, la conduite autonome de Tesla,... [7699 chars]', 'url': 'https://www.frandroid.com/survoltes/2595691_on-a-teste-lequivalent-chinois-de-la-conduite-autonome-tesla-fsd-le-ngp-de-xpeng-nous-a-bluffes', 'image': 'https://c0.lestechnophiles.com/images.frandroid.com/wp-content/uploads/2025/04/xpeng-frandroid-p1077902-1200x800-1.jpg?resize=1600,900&key=959ea8d6&watermark', 'publishedAt': '2025-04-26T06:00:08Z', 'source': {'name': 'Frandroid', 'url': 'https://www.frandroid.com'}}, {'title': 'Kasupke ärgert sich über Berlins Arbeitssenatorin', 'description': 'Für die SPD-Politikerin sind Teslas „Nazi-Autos“, weil ihr Fimenjründa Musk nich passt. Sind also die Auto-Käufa und die Arbeeta bei Tesla ooch Nazis?', 'content': 'Für die SPD-Politikerin sind Teslas „Nazi-Autos“, weil ihr Fimenjründa Musk nich passt. Sind also die Auto-Käufa und die Arbeeta bei Tesla ooch Nazis?\\nErst denken, denn reden sollte eijentlich oberste Devise halbwechs vanünftija Menschen sein. Und de... [477 chars]', 'url': 'https://www.morgenpost.de/blogs-kolumnen/article408865449/kasupke-aergert-sich-ueber-berlins-arbeitssenatorin.html', 'image': 'https://img.sparknews.funkemedien.de/408091545/408091545_1736958730_v16_9_1600.jpeg', 'publishedAt': '2025-04-26T04:48:00Z', 'source': {'name': 'Berliner Morgenpost', 'url': 'https://www.morgenpost.de'}}, {'title': \"L'agence américaine assouplit certaines règles de sécurité pour les véhicules autonomes, l'action Tesla s'envole\", 'description': \"L'annonce de l'administration Trump visant à accélérer le déploiement des véhicules autonomes, en exemptant certains d'entre eux de certaines exigences de sécurité et en allégeant les règles...\", 'content': \"L'annonce de l'administration Trump visant à accélérer le déploiement des véhicules autonomes, en exemptant certains d'entre eux de certaines exigences de sécurité et en allégeant les règles de déclaration des incidents, a propulsé l'action Tesla de ... [4457 chars]\", 'url': 'https://www.zonebourse.com/cours/action/TESLA-INC-6344549/actualite/L-agence-americaine-assouplit-certaines-regles-de-securite-pour-les-vehicules-autonomes-l-acti-49725674/', 'image': 'https://cdn.zonebourse.com/static/resize/0/0//images/reuters/2025-04/2025-04-17T045739Z_1_LYNXMPEL3G048_RTROPTP_4_CHINA-AUTOS-REGULATION.JPG', 'publishedAt': '2025-04-26T00:06:10Z', 'source': {'name': 'Zonebourse.com', 'url': 'https://www.zonebourse.com'}}, {'title': 'The left blindly hates Elon Musk, but Americans owe him thanks', 'description': 'On Tuesday, Musk announced on a Tesla earnings call that he\\'s taking a step back from his role at DOGE starting next month and \"allocating far more of [his] time to Tesla.\"', 'content': 'As Elon Musk’s tenure at the Department of Government Efficiency winds down, it’s clear Americans owe him a debt of gratitude — despite the left’s unhinged hate campaign against him.\\nOn Tuesday, Musk announced that he’s taking a step back from his ro... [3078 chars]', 'url': 'https://nypost.com/2025/04/25/opinion/the-left-blindly-hates-elon-musk-but-americans-owe-him-thanks/', 'image': 'https://nypost.com/wp-content/uploads/sites/2/2025/04/GettyImages-2194351305.jpg?quality=75&strip=all&w=1024', 'publishedAt': '2025-04-25T23:07:12Z', 'source': {'name': 'New York Post', 'url': 'https://nypost.com'}}, {'title': \"Drôle d'ironie dans les résultats trimestriels de Tesla\", 'description': 'Le constructeur, qui enchaîne sa quatrième année de surplace boursier, publiait hier de très médiocres résultats trimestriels.', 'content': 'Le constructeur, qui enchaîne sa quatrième année de surplace boursier, publiait hier de très médiocres résultats trimestriels.\\nLa mauvaise publicité autour de l’association Elon Musk-Donald Trump, la baisse des ventes de véhicules électriques, et la ... [2732 chars]', 'url': 'https://www.zonebourse.com/cours/action/TESLA-INC-6344549/actualite/Drole-d-ironie-dans-les-resultats-trimestriels-de-Tesla-49686010/', 'image': 'https://cdn.zonebourse.com/static/resize/0/0///img.zonebourse.com/reuters/2024-02/2024-02-02T113915Z_1_LYNXMPEK110CO_RTROPTP_3_TESLA-AUTOPILOT.JPG', 'publishedAt': '2025-04-25T22:06:00Z', 'source': {'name': 'Zonebourse.com', 'url': 'https://www.zonebourse.com'}}, {'title': 'LES ACTIONS EN VUE A WALL STREET CE VENDREDI : Intel, Alphabet, Tesla, Gilead, T-Mobile US, SLB', 'description': \"Voici un tour d'horizon des valeurs en vue à Wall Street ce vendredi.\\n-ALPHABET : La maison mère de Google a publié jeudi soir des résultats supérieurs aux attentes, soutenus par le...\", 'content': 'Intel Corporation est le 1er fabricant mondial de semi-conducteurs. Le CA par famille de produits et services se répartit comme suit : - produits pour architectures informatiques (69,6%) : processeurs et microprocesseurs (marques Pentium, Intel Xeon,... [894 chars]', 'url': 'https://www.zonebourse.com/cours/action/INTEL-CORPORATION-4829/actualite/LES-ACTIONS-EN-VUE-A-WALL-STREET-CE-VENDREDI-Intel-Alphabet-Tesla-Gilead-T-Mobile-US-SLB-49726088/', 'image': 'https://www.zonebourse.com/images/twitter_ZB_fdnoir.png', 'publishedAt': '2025-04-25T20:19:08Z', 'source': {'name': 'Zonebourse.com', 'url': 'https://www.zonebourse.com'}}, {'title': 'Tesla-Aktie an der NASDAQ von Musk-Versprechen angetrieben: Tesla-Zahlen enttäuschen auf ganzer Linie', 'description': 'Mit Spannung hatten Anleger auf die Quartalsbilanz des zuletzt angeschlagenen Elektroauotobauers Tesla gewartet. So schlug sich das Unternehmen im letzten Jahresviertel. 23.04.2025', 'content': 'Bilanz veröffentlicht\\nMit Spannung hatten Anleger auf die Quartalsbilanz des zuletzt angeschlagenen Elektroauotobauers Tesla gewartet. So schlug sich das Unternehmen im letzten Jahresviertel.\\nFür Tesla ist das erste Geschäftsquartal 2025 mit einem Rü... [8987 chars]', 'url': 'https://www.finanzen.net/nachricht/aktien/bilanz-veroeffentlicht-tesla-aktie-von-musk-versprechen-angetrieben-tesla-bei-umsatz-und-gewinn-schlechter-als-erwartet-14407901', 'image': 'https://images.finanzen.net/mediacenter/unsortiert/tesla-pe3k-shutterstock-660-9768.jpg', 'publishedAt': '2025-04-25T20:15:14Z', 'source': {'name': 'finanzen.net', 'url': 'https://www.finanzen.net'}}, {'title': 'BYD dobra lucro e supera Tesla no 1º trimestre de 2025', 'description': 'Montadora chinesa somou US$ 1,3 bilhão, enquanto norte-americana de Elon Musk teve queda e ficou em US$ 409 milhões. Leia no Poder360.', 'content': 'Montadora chinesa somou US$ 1,3 bilhão, enquanto norte-americana de Elon Musk teve queda e ficou em US$ 409 milhões\\nA montadora de carros elétricos chinesa BYD teve um lucro líquido de 9,2 bilhões de yuans (US$ 1,3 bilhão) no 1º semestre de 2025. Rep... [1463 chars]', 'url': 'https://www.poder360.com.br/poder-economia/byd-dobra-lucro-e-supera-tesla-no-1o-trimestre-de-2025/', 'image': 'https://static.poder360.com.br/2025/02/carro-BYD-song-pro-17.fev_.2025-848x477.jpg', 'publishedAt': '2025-04-25T19:10:53Z', 'source': {'name': 'Poder360', 'url': 'https://www.poder360.com.br'}}, {'title': 'Ο Μασκ αφήνει την Ουάσιγκτον και πιάνει την Tesla: Τι θα απογίνει το DOGE και το όραμα των περικοπών', 'description': 'Η ανακοίνωση της αποχώρησης του Έλον Μασκ από το προσκήνιο του κυβερνητικού έργου του Ντόναλντ Τραμπ μπορεί να σηματοδοτήσει μια εποχή αλλαγών.\\ufeff', 'content': 'Η ανακοίνωση της αποχώρησης του Έλον Μασκ από το προσκήνιο του κυβερνητικού έργου του Ντόναλντ Τραμπ μπορεί να σηματοδοτήσει μια εποχή αλλαγών.\\ufeff\\nΗ ανάμειξη του Έλον Μασκ στο Τμήμα Κυβερνητικής Αποδοτικότητας (DOGE) αποτέλεσε μία από τις πιο εντυπωσια... [4328 chars]', 'url': 'https://www.iefimerida.gr/kosmos/mask-afinei-oyasigkton-pianei-tesla-doge', 'image': 'https://www.iefimerida.gr/sites/default/files/styles/facebook/public/2025-04/donald-trump-elon-musk-2025-03-22.jpg?itok=I7czAkNO', 'publishedAt': '2025-04-25T18:55:00Z', 'source': {'name': 'iefimerida', 'url': 'https://www.iefimerida.gr'}}]}\n"
     ]
    },
    {
     "data": {
      "text/plain": [
       "\"Big techs perdem US$ 2,66 trilhões desde a posse de Trump\\nle NGP de Xpeng nous a bluffés\\nKasupke ärgert sich über Berlins Arbeitssenatorin\\nL'agence américaine assouplit certaines règles de sécurité pour les véhicules autonomes, l'action Tesla s'envole\\nThe left blindly hates Elon Musk, but Americans owe him thanks\\nDrôle d'ironie dans les résultats trimestriels de Tesla\\nLES ACTIONS EN VUE A WALL STREET CE VENDREDI : Intel, Alphabet, Tesla, Gilead, T-Mobile US, SLB\\nTesla-Aktie an der NASDAQ von Musk-Versprechen angetrieben: Tesla-Zahlen enttäuschen auf ganzer Linie\\nBYD dobra lucro e supera Tesla no 1º trimestre de 2025\\nΟ Μασκ αφήνει την Ουάσιγκτον και πιάνει την Tesla: Τι θα απογίνει το DOGE και το όραμα των περικοπών\""
      ]
     },
     "execution_count": 213,
     "metadata": {},
     "output_type": "execute_result"
    }
   ],
   "source": [
    "NewsTool( refined_query )"
   ]
  },
  {
   "cell_type": "code",
   "execution_count": null,
   "metadata": {},
   "outputs": [],
   "source": []
  }
 ],
 "metadata": {
  "kernelspec": {
   "display_name": "AgentVerse",
   "language": "python",
   "name": "python3"
  },
  "language_info": {
   "codemirror_mode": {
    "name": "ipython",
    "version": 3
   },
   "file_extension": ".py",
   "mimetype": "text/x-python",
   "name": "python",
   "nbconvert_exporter": "python",
   "pygments_lexer": "ipython3",
   "version": "3.9.6"
  }
 },
 "nbformat": 4,
 "nbformat_minor": 2
}

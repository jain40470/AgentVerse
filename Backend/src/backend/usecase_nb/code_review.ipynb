{
 "cells": [
  {
   "cell_type": "code",
   "execution_count": 29,
   "metadata": {},
   "outputs": [],
   "source": [
    "import os"
   ]
  },
  {
   "cell_type": "code",
   "execution_count": 30,
   "metadata": {},
   "outputs": [],
   "source": [
    "import warnings\n",
    "warnings.filterwarnings(\"ignore\")"
   ]
  },
  {
   "cell_type": "code",
   "execution_count": 31,
   "metadata": {},
   "outputs": [],
   "source": [
    "GROQ_API_KEY = os.getenv(\"GROQ_API_KEY\")\n",
    "os.environ[\"GROQ_API_KEY\"] = GROQ_API_KEY"
   ]
  },
  {
   "cell_type": "code",
   "execution_count": 32,
   "metadata": {},
   "outputs": [],
   "source": [
    "from langchain_groq import ChatGroq\n",
    "llm = ChatGroq(model=\"Gemma2-9b-It\")"
   ]
  },
  {
   "cell_type": "code",
   "execution_count": 39,
   "metadata": {},
   "outputs": [],
   "source": [
    "from typing_extensions import TypedDict\n",
    "from typing import Optional\n",
    "from pydantic import BaseModel \n",
    "\n",
    "\n",
    "class ReviewSummary(BaseModel):\n",
    "    language : str\n",
    "    lint_analysis: str\n",
    "    logic_analysis: str\n",
    "    best_practices: str\n",
    "    security_performance: str\n",
    "    test_report: str\n",
    "    overall_comment: str\n",
    "\n",
    "class CodeReviewer(TypedDict):\n",
    "    \n",
    "    code : str\n",
    "    language : str\n",
    "\n",
    "    lint_checker : str  # process of using a tool, called a linter,\n",
    "    # to analyze source code for errors, style issues, and potential bugs.\n",
    "\n",
    "    logic_analysis : str\n",
    "    best_practices : str\n",
    "    security_analysis : str\n",
    "    test_cases: str\n",
    "    test_results: str\n",
    "    test_analysis: str\n",
    "\n",
    "    review_summary : ReviewSummary\n"
   ]
  },
  {
   "cell_type": "code",
   "execution_count": 40,
   "metadata": {},
   "outputs": [],
   "source": [
    "def detect_language(state: CodeReviewer):\n",
    "    \"\"\"\n",
    "    Detect the language of the code\n",
    "    \"\"\"\n",
    "    prompt = f\"\"\"What programming language is this code?\n",
    "            {state['code']}\n",
    "             Respond with just the language name.\"\"\"\n",
    "    response = llm.invoke( prompt )\n",
    "    return { \"language\" : response.content }\n",
    "\n",
    "\n",
    "def lint_checker(state: CodeReviewer):\n",
    "    prompt = f\"Perform linting and identify style issues in the following {state['language']} code:\\n\\n{state['code']}\"\n",
    "    response = llm.invoke( prompt )\n",
    "    return { \"lint_checker\" : response.content }\n",
    "\n",
    "\n",
    "def logic_analysis(state: CodeReviewer) :\n",
    "\n",
    "    prompt = f\"Analyze the logic of the following {state['language']} code and point out any logical errors or improvements:\\n\\n{state['code']}\"\n",
    "    response = llm.invoke( prompt )\n",
    "    \n",
    "    return {\"logic_analysis\" : response.content}\n",
    "\n",
    "def best_practices(state: CodeReviewer) :\n",
    "   \n",
    "    prompt = f\"Check whether the following {state['language']} code follows best practices and recommend any improvements:\\n\\n{state['code']}\"\n",
    "    response = llm.invoke( prompt )\n",
    "    return { \"best_practices\" : response.content }\n",
    "\n",
    "def security_check(state: CodeReviewer):\n",
    "   \n",
    "    prompt = f\"Review this {state['language']} code for any security or performance issues:\\n\\n{state['code']}\"\n",
    "    response = llm.invoke( prompt )\n",
    "    return { \"security_analysis\" : response.content }\n",
    "\n",
    "\n",
    "def generate_test_cases(state: CodeReviewer) :\n",
    "   \n",
    "    prompt = f\"Generate test cases for this {state['language']} code. Include normal and edge cases. Return only code:\\n\\n{state['code']}\"\n",
    "    response = llm.invoke( prompt )\n",
    "    return { \"test_cases\" : response.content }\n",
    "\n",
    "def run_test_cases(state: CodeReviewer) :\n",
    "    prompt = f\"\"\"\n",
    "You're a code reviewer. Simulate running the following test cases for this {state['language']} code.\n",
    "Mark each test as pass/fail and explain failures if any.\n",
    "\n",
    "Code:\\n{state['code']}\n",
    "\n",
    "Test Cases:\\n{state['test_cases']}\n",
    "\"\"\"\n",
    "    response = llm.invoke( prompt )\n",
    "    return { \"test_results\" : response.content }\n",
    "\n",
    "def analyze_failed_tests(state: CodeReviewer) :\n",
    "\n",
    "    prompt = f\"\"\"\n",
    "Analyze the failed test cases and explain what might be causing the issues.\n",
    "Also suggest how to fix the code to make them pass.\n",
    "Lets keep the report generalized and formal\n",
    "\n",
    "Code:\\n{state['code']}\n",
    "Test Results:\\n{state['test_results']}\n",
    "\"\"\"\n",
    "    response = llm.invoke( prompt )\n",
    "    return { \"test_analysis\" : response.content }\n"
   ]
  },
  {
   "cell_type": "code",
   "execution_count": 54,
   "metadata": {},
   "outputs": [],
   "source": [
    "def review_summary(state: CodeReviewer):\n",
    "    \"\"\"\n",
    "    Use the LLM to generate a structured review summary aggregating all aspects.\n",
    "    \"\"\"\n",
    "    prompt = f\"\"\"\n",
    "You're a senior software engineer and code reviewer. Based on the following analyses of a {state['language']} code snippet, write a structured final review.\n",
    "\n",
    "Use clear headers and concise feedback for each section:\n",
    "- Linting & Style\n",
    "- Logic & Correctness\n",
    "- Best Practices\n",
    "- Security & Performance\n",
    "- Test Case Evaluation\n",
    "- Final Verdict\n",
    "\n",
    "=== Linting Analysis ===\n",
    "{state['lint_checker']}\n",
    "\n",
    "=== Logic Analysis ===\n",
    "{state['logic_analysis']}\n",
    "\n",
    "=== Best Practices ===\n",
    "{state['best_practices']}\n",
    "\n",
    "=== Security & Performance ===\n",
    "{state['security_analysis']}\n",
    "\n",
    "=== Test Analysis ===\n",
    "{state.get('test_analysis', 'No test analysis available')}\n",
    "\n",
    "Return the summary in markdown format.\n",
    "\"\"\"\n",
    "    response = llm.invoke(prompt)\n",
    "\n",
    "    summary = ReviewSummary(\n",
    "        language=state[\"language\"],\n",
    "        lint_analysis=state[\"lint_checker\"],\n",
    "        logic_analysis=state[\"logic_analysis\"],\n",
    "        best_practices=state[\"best_practices\"],\n",
    "        security_performance=state[\"security_analysis\"],\n",
    "        test_report=state.get('test_analysis', 'No test analysis available'),\n",
    "        overall_comment=response.content  # LLM will generate this section\n",
    "    )\n",
    "\n",
    "    return {\"review_summary\": summary}\n"
   ]
  },
  {
   "cell_type": "code",
   "execution_count": 55,
   "metadata": {},
   "outputs": [],
   "source": [
    "from langgraph.graph import START , END , StateGraph\n",
    "\n",
    "graph_builder = StateGraph(CodeReviewer)\n",
    "\n",
    "graph_builder.add_node(\"recognize_language\" , detect_language)\n",
    "graph_builder.add_node(\"lint_analyzer\" , lint_checker)\n",
    "graph_builder.add_node(\"logic_analyzer\" , logic_analysis)\n",
    "graph_builder.add_node(\"best_practices_to_follow\",best_practices)\n",
    "graph_builder.add_node(\"security_report\",security_check)\n",
    "\n",
    "graph_builder.add_node(\"TestCase_Generator\",generate_test_cases)\n",
    "graph_builder.add_node(\"Running_TestCases\",run_test_cases)\n",
    "graph_builder.add_node(\"TestCase_Report\",analyze_failed_tests)\n",
    "\n",
    "graph_builder.add_node(\"Final_Review\" , review_summary)\n",
    "\n",
    "graph_builder.add_edge(START ,\"recognize_language\")\n",
    "\n",
    "graph_builder.add_edge(\"recognize_language\" , \"lint_analyzer\")\n",
    "graph_builder.add_edge(\"recognize_language\" , \"logic_analyzer\")\n",
    "graph_builder.add_edge(\"recognize_language\" , \"best_practices_to_follow\")\n",
    "graph_builder.add_edge(\"recognize_language\" , \"security_report\")\n",
    "\n",
    "graph_builder.add_edge(\"recognize_language\" , \"TestCase_Generator\")\n",
    "graph_builder.add_edge(\"TestCase_Generator\" , \"Running_TestCases\")\n",
    "graph_builder.add_edge(\"Running_TestCases\" , \"TestCase_Report\")\n",
    "\n",
    "graph_builder.add_edge(\"lint_analyzer\" , \"Final_Review\")\n",
    "graph_builder.add_edge(\"logic_analyzer\" , \"Final_Review\")\n",
    "graph_builder.add_edge( \"TestCase_Report\" , \"Final_Review\")\n",
    "graph_builder.add_edge(\"best_practices_to_follow\" , \"Final_Review\")\n",
    "graph_builder.add_edge(\"security_report\" , \"Final_Review\")\n",
    "\n",
    "\n",
    "graph_builder.add_edge(\"Final_Review\" , END)\n",
    "\n",
    "\n",
    "graph = graph_builder.compile()"
   ]
  },
  {
   "cell_type": "code",
   "execution_count": 56,
   "metadata": {},
   "outputs": [],
   "source": [
    "# from langgraph.graph import START , END , StateGraph\n",
    "\n",
    "# graph_builder = StateGraph(CodeReviewer)\n",
    "\n",
    "\n",
    "# graph_builder.add_node(\"recognize_language\" , detect_language)\n",
    "# graph_builder.add_node(\"TestCase_Generator\",generate_test_cases)\n",
    "# graph_builder.add_node(\"Running_TestCases\",run_test_cases)\n",
    "# graph_builder.add_node(\"TestCases_Report\",analyze_failed_tests)\n",
    "\n",
    "# graph_builder.add_edge(START ,\"recognize_language\")\n",
    "\n",
    "# graph_builder.add_edge(\"recognize_language\" , \"TestCase_Generator\")\n",
    "# graph_builder.add_edge(\"TestCase_Generator\" , \"Running_TestCases\")\n",
    "# graph_builder.add_edge(\"Running_TestCases\" , \"TestCases_Report\")\n",
    "\n",
    "# graph_builder.add_edge( \"TestCases_Report\" , END )\n",
    "\n",
    "# graph = graph_builder.compile()"
   ]
  },
  {
   "cell_type": "code",
   "execution_count": 57,
   "metadata": {},
   "outputs": [
    {
     "data": {
      "text/plain": [
       "{'code': '\\n\\ndef add(a , b) :\\n    return a + b\\n\\n',\n",
       " 'language': 'Python \\n',\n",
       " 'lint_checker': 'The code you\\'ve provided has a minor style issue according to PEP 8, the standard style guide for Python.\\n\\n**Issue:**\\n\\n* **Function definition spacing:**  PEP 8 recommends using a single space after the function name and  before the opening parenthesis in function definitions.\\n\\n**Corrected Code:**\\n\\n```python\\ndef add(a, b):\\n    return a + b \\n```\\n\\n**Explanation:**\\n\\n* The original code has no spaces after \"add\" and before the opening parenthesis.\\n* The corrected code adds a single space after \"add\" and before the opening parenthesis, adhering to PEP 8 guidelines.\\n\\n**Other Considerations:**\\n\\nWhile the spacing issue is the most noticeable, here are some additional style tips:\\n\\n* **Naming conventions:** Function names should generally be in lowercase with underscores (e.g., `add_numbers`).\\n* **Docstrings:** Adding a docstring to your function, explaining what it does, is good practice. \\n\\n\\n\\nLet me know if you have any other Python code you\\'d like me to review!\\n',\n",
       " 'logic_analysis': 'Let\\'s break down this Python code snippet.\\n\\n**Code:**\\n\\n```python\\ndef add(a, b):\\n    return a + b\\n```\\n\\n**Logic:**\\n\\nThis code defines a function called `add`.  Here\\'s how it works:\\n\\n1. **`def add(a, b):`**: This line declares the function named `add`. It takes two parameters, `a` and `b`, which represent the numbers you want to add together.\\n\\n2. **`return a + b`**: This line performs the addition of the two parameters (`a` and `b`) and uses the `return` keyword to send the result back to wherever the function was called.\\n\\n**Logical Analysis:**\\n\\n* **Correctness:**  The logic of the function is fundamentally correct. It takes two numbers, adds them, and returns the sum.\\n\\n* **Simplicity:**  The code is very concise and easy to understand.\\n\\n**Potential Improvements:**\\n\\nWhile the code is already quite good, here are a couple of minor improvements:\\n\\n* **Docstring:**  Adding a docstring to explain what the function does can make it more readable and maintainable.\\n\\n   ```python\\n   def add(a, b):\\n       \"\"\"Adds two numbers together.\"\"\"\\n       return a + b\\n   ```\\n\\n* **Error Handling (Optional):**  You could add error handling to check if the inputs are actually numbers. This would prevent unexpected behavior if someone tries to pass in strings or other data types.\\n\\n\\n   ```python\\n   def add(a, b):\\n       \"\"\"Adds two numbers together.\"\"\"\\n       if isinstance(a, (int, float)) and isinstance(b, (int, float)):\\n           return a + b\\n       else:\\n           raise TypeError(\"Inputs must be numbers\")\\n   ```\\n\\n\\n\\nLet me know if you\\'d like to explore any of these improvements in more detail!\\n',\n",
       " 'best_practices': 'The code snippet you provided is functionally correct, but here are some best practices you can apply to make it more Pythonic and readable:\\n\\n**1. Use Type Hints (Optional but Recommended):**\\n\\n   ```python\\n   def add(a: int, b: int) -> int:\\n       return a + b\\n   ```\\n\\n   - `a: int` and `b: int`: These specify that the function expects integer arguments.\\n   - `-> int`: This indicates that the function will return an integer.\\n   - Type hints improve code clarity and allow tools like static analysis to catch potential type errors early on.\\n\\n**2. Docstring (Essential for Documentation):**\\n\\n   ```python\\n   def add(a: int, b: int) -> int:\\n       \"\"\"\\n       Adds two integers together.\\n\\n       Args:\\n           a: The first integer.\\n           b: The second integer.\\n\\n       Returns:\\n           The sum of a and b.\\n       \"\"\"\\n       return a + b\\n   ```\\n\\n   - A docstring (using triple quotes `\"\"\" \"\"\") provides a concise description of the function\\'s purpose, arguments, and return value. \\n   -  It\\'s crucial for documentation and understanding your code.\\n\\n**Example with Both Improvements:**\\n\\n```python\\ndef add(a: int, b: int) -> int:\\n    \"\"\"Adds two integers together.\\n\\n    Args:\\n        a: The first integer.\\n        b: The second integer.\\n\\n    Returns:\\n        The sum of a and b.\\n    \"\"\"\\n    return a + b\\n```\\n\\n\\n\\nLet me know if you have any other code snippets you\\'d like reviewed!\\n',\n",
       " 'security_analysis': 'The provided Python code snippet is extremely simple and doesn\\'t present any obvious security vulnerabilities. However, let\\'s discuss potential areas for improvement regarding performance and security best practices:\\n\\n**Performance:**\\n\\n* **Insignificant Overhead:** The `add` function is trivial and involves a single arithmetic operation. Its performance impact on a larger program is negligible.\\n\\n**Security:**\\n\\n* **Input Validation:** The code doesn\\'t perform any input validation.  If `a` or `b` were received from untrusted sources (e.g., user input), they could contain malicious data like:\\n    * **SQL Injection:** If `a` or `b` were used in a database query, malicious SQL code could be injected.\\n    * **Code Injection:** In some contexts, if `a` or `b` were used to dynamically construct code, an attacker could inject harmful commands.\\n\\n**Best Practices:**\\n\\nEven though the `add` function is basic, it\\'s good to follow security principles:\\n\\n1. **Input Sanitization:**  Always validate and sanitize user input before using it in your code.  This depends on the context. For simple addition, you might not need strict checks, but for more complex operations, it\\'s crucial.\\n\\n2. **Avoid Dynamic Code Execution:**  If you need to construct code dynamically, use safe mechanisms provided by your language or framework. Avoid directly evaluating strings as code.\\n\\n3. **Error Handling:**  Implement robust error handling to prevent unexpected crashes and potential security exploits.\\n\\n**Example with Input Sanitization:**\\n\\n```python\\ndef add(a, b):\\n    try:\\n        a = int(a)  # Convert to integer, handle potential errors\\n        b = int(b)\\n        return a + b\\n    except ValueError:\\n        print(\"Invalid input. Please enter numbers.\")\\n        return None \\n```\\n\\n\\n\\nLet me know if you have any other code snippets you\\'d like reviewed!\\n',\n",
       " 'test_cases': \"```python\\ndef test_add():\\n    assert add(2, 3) == 5\\n    assert add(-2, 3) == 1\\n    assert add(0, 0) == 0\\n    assert add(2.5, 3.7) == 6.2\\n    assert add(1000, -1000) == 0\\n    assert add(float('inf'), 1) == float('inf')\\n    assert add(-float('inf'), 1) == -float('inf')\\n```\",\n",
       " 'test_results': \"Okay, here's a breakdown of the test cases running against the provided `add` function:\\n\\n**Test Case 1:** `assert add(2, 3) == 5`\\n   * **Result:** Pass\\n   * **Explanation:** 2 + 3 correctly equals 5.\\n\\n**Test Case 2:** `assert add(-2, 3) == 1`\\n   * **Result:** Pass\\n   * **Explanation:** -2 + 3 correctly equals 1.\\n\\n**Test Case 3:** `assert add(0, 0) == 0`\\n   * **Result:** Pass\\n   * **Explanation:** 0 + 0 correctly equals 0.\\n\\n**Test Case 4:** `assert add(2.5, 3.7) == 6.2`\\n   * **Result:** Pass\\n   * **Explanation:** 2.5 + 3.7 correctly equals 6.2.\\n\\n**Test Case 5:** `assert add(1000, -1000) == 0`\\n   * **Result:** Pass\\n   * **Explanation:** 1000 + (-1000) correctly equals 0.\\n\\n**Test Case 6:** `assert add(float('inf'), 1) == float('inf')`\\n   * **Result:** Pass\\n   * **Explanation:**  Adding 1 to positive infinity results in positive infinity.\\n\\n**Test Case 7:** `assert add(-float('inf'), 1) == -float('inf')`\\n   * **Result:** Pass\\n   * **Explanation:** Adding 1 to negative infinity results in negative infinity.\\n\\n\\n**Overall:** All test cases pass, indicating the `add` function is working correctly for the given scenarios.\\n\",\n",
       " 'test_analysis': \"The provided code and test results indicate that the `add` function is functioning as expected. All test cases, covering a range of integer, floating-point, and special cases (infinity), pass without issue. \\n\\nSince all tests are successful, there are no failed test cases to analyze or issues to fix. The code appears to be correctly implementing addition. \\n\\n\\nLet me know if you'd like to explore additional test cases or have any other code snippets you'd like me to analyze. \\n\",\n",
       " 'review_summary': ReviewSummary(language='Python \\n', lint_analysis='The code you\\'ve provided has a minor style issue according to PEP 8, the standard style guide for Python.\\n\\n**Issue:**\\n\\n* **Function definition spacing:**  PEP 8 recommends using a single space after the function name and  before the opening parenthesis in function definitions.\\n\\n**Corrected Code:**\\n\\n```python\\ndef add(a, b):\\n    return a + b \\n```\\n\\n**Explanation:**\\n\\n* The original code has no spaces after \"add\" and before the opening parenthesis.\\n* The corrected code adds a single space after \"add\" and before the opening parenthesis, adhering to PEP 8 guidelines.\\n\\n**Other Considerations:**\\n\\nWhile the spacing issue is the most noticeable, here are some additional style tips:\\n\\n* **Naming conventions:** Function names should generally be in lowercase with underscores (e.g., `add_numbers`).\\n* **Docstrings:** Adding a docstring to your function, explaining what it does, is good practice. \\n\\n\\n\\nLet me know if you have any other Python code you\\'d like me to review!\\n', logic_analysis='Let\\'s break down this Python code snippet.\\n\\n**Code:**\\n\\n```python\\ndef add(a, b):\\n    return a + b\\n```\\n\\n**Logic:**\\n\\nThis code defines a function called `add`.  Here\\'s how it works:\\n\\n1. **`def add(a, b):`**: This line declares the function named `add`. It takes two parameters, `a` and `b`, which represent the numbers you want to add together.\\n\\n2. **`return a + b`**: This line performs the addition of the two parameters (`a` and `b`) and uses the `return` keyword to send the result back to wherever the function was called.\\n\\n**Logical Analysis:**\\n\\n* **Correctness:**  The logic of the function is fundamentally correct. It takes two numbers, adds them, and returns the sum.\\n\\n* **Simplicity:**  The code is very concise and easy to understand.\\n\\n**Potential Improvements:**\\n\\nWhile the code is already quite good, here are a couple of minor improvements:\\n\\n* **Docstring:**  Adding a docstring to explain what the function does can make it more readable and maintainable.\\n\\n   ```python\\n   def add(a, b):\\n       \"\"\"Adds two numbers together.\"\"\"\\n       return a + b\\n   ```\\n\\n* **Error Handling (Optional):**  You could add error handling to check if the inputs are actually numbers. This would prevent unexpected behavior if someone tries to pass in strings or other data types.\\n\\n\\n   ```python\\n   def add(a, b):\\n       \"\"\"Adds two numbers together.\"\"\"\\n       if isinstance(a, (int, float)) and isinstance(b, (int, float)):\\n           return a + b\\n       else:\\n           raise TypeError(\"Inputs must be numbers\")\\n   ```\\n\\n\\n\\nLet me know if you\\'d like to explore any of these improvements in more detail!\\n', best_practices='The code snippet you provided is functionally correct, but here are some best practices you can apply to make it more Pythonic and readable:\\n\\n**1. Use Type Hints (Optional but Recommended):**\\n\\n   ```python\\n   def add(a: int, b: int) -> int:\\n       return a + b\\n   ```\\n\\n   - `a: int` and `b: int`: These specify that the function expects integer arguments.\\n   - `-> int`: This indicates that the function will return an integer.\\n   - Type hints improve code clarity and allow tools like static analysis to catch potential type errors early on.\\n\\n**2. Docstring (Essential for Documentation):**\\n\\n   ```python\\n   def add(a: int, b: int) -> int:\\n       \"\"\"\\n       Adds two integers together.\\n\\n       Args:\\n           a: The first integer.\\n           b: The second integer.\\n\\n       Returns:\\n           The sum of a and b.\\n       \"\"\"\\n       return a + b\\n   ```\\n\\n   - A docstring (using triple quotes `\"\"\" \"\"\") provides a concise description of the function\\'s purpose, arguments, and return value. \\n   -  It\\'s crucial for documentation and understanding your code.\\n\\n**Example with Both Improvements:**\\n\\n```python\\ndef add(a: int, b: int) -> int:\\n    \"\"\"Adds two integers together.\\n\\n    Args:\\n        a: The first integer.\\n        b: The second integer.\\n\\n    Returns:\\n        The sum of a and b.\\n    \"\"\"\\n    return a + b\\n```\\n\\n\\n\\nLet me know if you have any other code snippets you\\'d like reviewed!\\n', security_performance='The provided Python code snippet is extremely simple and doesn\\'t present any obvious security vulnerabilities. However, let\\'s discuss potential areas for improvement regarding performance and security best practices:\\n\\n**Performance:**\\n\\n* **Insignificant Overhead:** The `add` function is trivial and involves a single arithmetic operation. Its performance impact on a larger program is negligible.\\n\\n**Security:**\\n\\n* **Input Validation:** The code doesn\\'t perform any input validation.  If `a` or `b` were received from untrusted sources (e.g., user input), they could contain malicious data like:\\n    * **SQL Injection:** If `a` or `b` were used in a database query, malicious SQL code could be injected.\\n    * **Code Injection:** In some contexts, if `a` or `b` were used to dynamically construct code, an attacker could inject harmful commands.\\n\\n**Best Practices:**\\n\\nEven though the `add` function is basic, it\\'s good to follow security principles:\\n\\n1. **Input Sanitization:**  Always validate and sanitize user input before using it in your code.  This depends on the context. For simple addition, you might not need strict checks, but for more complex operations, it\\'s crucial.\\n\\n2. **Avoid Dynamic Code Execution:**  If you need to construct code dynamically, use safe mechanisms provided by your language or framework. Avoid directly evaluating strings as code.\\n\\n3. **Error Handling:**  Implement robust error handling to prevent unexpected crashes and potential security exploits.\\n\\n**Example with Input Sanitization:**\\n\\n```python\\ndef add(a, b):\\n    try:\\n        a = int(a)  # Convert to integer, handle potential errors\\n        b = int(b)\\n        return a + b\\n    except ValueError:\\n        print(\"Invalid input. Please enter numbers.\")\\n        return None \\n```\\n\\n\\n\\nLet me know if you have any other code snippets you\\'d like reviewed!\\n', test_report=\"The provided code and test results indicate that the `add` function is functioning as expected. All test cases, covering a range of integer, floating-point, and special cases (infinity), pass without issue. \\n\\nSince all tests are successful, there are no failed test cases to analyze or issues to fix. The code appears to be correctly implementing addition. \\n\\n\\nLet me know if you'd like to explore additional test cases or have any other code snippets you'd like me to analyze. \\n\", overall_comment=\"## Code Review Summary \\n\\n**Code Snippet:**  A simple function `add` that takes two numbers and returns their sum.\\n\\n**Review:**\\n\\n**Linting & Style:**\\n\\n* Minor issue: Function definition spacing violated PEP 8 guidelines. Corrected to include a single space after the function name and before the opening parenthesis.\\n* **Recommendations:** \\n    * Use lowercase with underscores for function names (e.g., `add_numbers`).\\n    * Add docstrings to explain function purpose, arguments, and return values.\\n\\n**Logic & Correctness:**\\n\\n*  The logic of the function is correct and accurately calculates the sum of two numbers.\\n* **Recommendations:**\\n    * Consider adding error handling to check if inputs are valid numbers.\\n\\n**Best Practices:**\\n\\n* **Recommendations:**\\n    *  Use type hints for improved code clarity and error detection.\\n    *  Always sanitize and validate user input to prevent security vulnerabilities.\\n\\n**Security & Performance:**\\n\\n* **Security:** No immediate security vulnerabilities identified. However, input validation is recommended for robustness.\\n* **Performance:**  The function's performance impact is negligible.\\n\\n**Test Case Evaluation:**\\n\\n*  All test cases passed successfully, indicating the code correctly implements addition.\\n\\n\\n**Final Verdict:**\\n\\nThe code is functionally correct and easy to understand.  Addressing the linting and style recommendations, and incorporating best practices for input validation will significantly improve the code's quality and maintainability. \\n\\n\\n\")}"
      ]
     },
     "execution_count": 57,
     "metadata": {},
     "output_type": "execute_result"
    }
   ],
   "source": [
    "graph.invoke( {\"code\" : \"\"\"\n",
    "\n",
    "def add(a , b) :\n",
    "    return a + b\n",
    "\n",
    "\"\"\"} )"
   ]
  },
  {
   "cell_type": "code",
   "execution_count": 51,
   "metadata": {},
   "outputs": [
    {
     "data": {
      "image/png": "[encoded data removed]",
      "text/plain": [
       "<IPython.core.display.Image object>"
      ]
     },
     "metadata": {},
     "output_type": "display_data"
    }
   ],
   "source": [
    "from IPython.display import Image , display\n",
    "\n",
    "display(\n",
    "    Image(\n",
    "        graph.get_graph().draw_mermaid_png()\n",
    "    )\n",
    ")"
   ]
  },
  {
   "cell_type": "code",
   "execution_count": null,
   "metadata": {},
   "outputs": [],
   "source": [
    "#"
   ]
  }
 ],
 "metadata": {
  "kernelspec": {
   "display_name": "AgentVerse",
   "language": "python",
   "name": "python3"
  },
  "language_info": {
   "codemirror_mode": {
    "name": "ipython",
    "version": 3
   },
   "file_extension": ".py",
   "mimetype": "text/x-python",
   "name": "python",
   "nbconvert_exporter": "python",
   "pygments_lexer": "ipython3",
   "version": "3.9.6"
  }
 },
 "nbformat": 4,
 "nbformat_minor": 2
}
